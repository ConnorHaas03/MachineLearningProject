{
 "cells": [
  {
   "cell_type": "code",
   "execution_count": null,
   "metadata": {},
   "outputs": [],
   "source": [
    "#lasso reg vizualization for many lamdas\n",
    "def lassoReg (alphas, df, target):\n",
    "\n",
    "    lasso  = Lasso()\n",
    "    #alphas = np.linspace(0.1,20.1,20)\n",
    "    lasso.set_params(normalize=False)\n",
    "    coefs_lasso  = []\n",
    "\n",
    "    for alpha in alphas:\n",
    "        lasso.set_params(alpha=alpha)\n",
    "        lasso.fit(df, target)  \n",
    "        coefs_lasso.append(lasso.coef_)\n",
    "\n",
    "    coefs_lasso = pd.DataFrame(coefs_lasso, index = alphas, columns = df.columns)  \n",
    "    #coefs_lasso.head()\n",
    "    \n",
    "    plt.rcParams['figure.figsize'] = (20,20)\n",
    "    for name in coefs_lasso.columns:\n",
    "        plt.plot(coefs_lasso.index, coefs_lasso[name], label=name)\n",
    "        \n",
    "        \n",
    "    plt.xlabel(r'hyperparameter $\\lambda$')\n",
    "    plt.ylabel(r'slope values')\n",
    "    plt.legend(loc=1)"
   ]
  },
  {
   "cell_type": "code",
   "execution_count": null,
   "metadata": {},
   "outputs": [],
   "source": [
    "#elastisc net vizualization graph for many lambdas\n",
    "def elasticNet (alphas, df, target, rho):\n",
    "\n",
    "    elasticnet = ElasticNet()\n",
    "    elasticnet.set_params(normalize=False)\n",
    "    coefs_model  = []\n",
    "    #run through many alphas(lambdas)\n",
    "    for alpha in alphas:\n",
    "        elasticnet.set_params(alpha=alpha, l1_ratio= rho)\n",
    "        elasticnet.fit(df, target)  \n",
    "        coefs_model.append(elasticnet.coef_)\n",
    "\n",
    "    coefs_model = pd.DataFrame(coefs_model, index = alphas, columns = df.columns)  \n",
    "    \n",
    "    #plot all the figures for different lambda\n",
    "    plt.rcParams['figure.figsize'] = (20,20)\n",
    "    for name in coefs_model.columns:\n",
    "        plt.plot(coefs_model.index, coefs_model[name], label=name)\n",
    "            \n",
    "    plt.xlabel(r'hyperparameter $\\lambda$')\n",
    "    plt.ylabel(r'slope values')\n",
    "    plt.legend(loc=1)"
   ]
  },
  {
   "cell_type": "code",
   "execution_count": null,
   "metadata": {},
   "outputs": [],
   "source": [
    "#find numeric columns in given df,replace missing rows with column mean, return dataframe\n",
    "def num_cleaner (df):\n",
    "    numerics = ['int16', 'int32', 'int64', 'float16', 'float32', 'float64']\n",
    "    cl_df = pd.DataFrame()\n",
    "\n",
    "    df2 = df.select_dtypes(include=numerics).copy() #only numeric columns\n",
    "    nullCols = df2.isnull() #df of T/F, T if null (bool mask)\n",
    "    means = df2.mean() #series of mean per column\n",
    "\n",
    "    for c in df2:\n",
    "        for r in range(0,len(df2)-1):\n",
    "            if df2[c].iloc[r] and nullCols[c].iloc[r]:\n",
    "                df2[c].iloc[r] = means[c]\n",
    "\n",
    "    cl_df = df2.copy()\n",
    "    return cl_df"
   ]
  },
  {
   "cell_type": "code",
   "execution_count": null,
   "metadata": {},
   "outputs": [],
   "source": [
    "#dummify object columns and return dataframe\n",
    "def mass_dummify (df):\n",
    "    df2 = df.select_dtypes(include=object).copy()\n",
    "    dum_df = pd.get_dummies(df2)\n",
    "    return dum_df"
   ]
  }
 ],
 "metadata": {
  "kernelspec": {
   "display_name": "Python 3",
   "language": "python",
   "name": "python3"
  },
  "language_info": {
   "codemirror_mode": {
    "name": "ipython",
    "version": 3
   },
   "file_extension": ".py",
   "mimetype": "text/x-python",
   "name": "python",
   "nbconvert_exporter": "python",
   "pygments_lexer": "ipython3",
   "version": "3.7.4"
  }
 },
 "nbformat": 4,
 "nbformat_minor": 2
}
