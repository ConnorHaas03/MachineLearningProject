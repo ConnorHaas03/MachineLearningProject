{
 "cells": [
  {
   "cell_type": "code",
   "execution_count": 1,
   "metadata": {},
   "outputs": [],
   "source": [
    "import pandas as pd\n",
    "import numpy as np\n",
    "import matplotlib.pyplot as plt\n",
    "import seaborn as sns\n",
    "from sklearn.linear_model import LinearRegression, Ridge, Lasso, ElasticNet, RidgeCV, LassoCV\n",
    "from scipy import stats\n",
    "from sklearn.neighbors import KNeighborsClassifier\n",
    "from sklearn.metrics import mean_squared_error\n",
    "from math import sqrt\n",
    "import statsmodels.api as sm\n",
    "from sklearn.model_selection import train_test_split, KFold, GridSearchCV"
   ]
  },
  {
   "cell_type": "code",
   "execution_count": 2,
   "metadata": {},
   "outputs": [],
   "source": [
    "data = pd.read_csv('../train.csv')\n",
    "testData = pd.read_csv('../test.csv')"
   ]
  },
  {
   "cell_type": "markdown",
   "metadata": {},
   "source": [
    "\n",
    "## Here are our corr matrix for feature selection"
   ]
  },
  {
   "cell_type": "code",
   "execution_count": null,
   "metadata": {},
   "outputs": [],
   "source": [
    "#visual correlation matrix\n",
    "f = plt.figure(figsize=(25,25))\n",
    "plt.matshow(data.corr(), fignum=f.number)\n",
    "cb = plt.colorbar()\n",
    "\n",
    "#correlation matrix to csv\n",
    "c = data.corr().abs()\n",
    "s = c.unstack()\n",
    "so = s.sort_values(kind=\"quicksort\")\n",
    "so.to_csv('./corr.csv')\n",
    "\n",
    "#corr matrix of fin chosen set\n",
    "c = fin_set.corr().abs()\n",
    "s = c.unstack()\n",
    "so = s.sort_values(kind=\"quicksort\")\n",
    "so.to_csv('./finalSetcorr.csv')"
   ]
  },
  {
   "cell_type": "code",
   "execution_count": null,
   "metadata": {},
   "outputs": [],
   "source": [
    "#percentage of missing per column\n",
    "print((data.count() / len(data)) *100)\n",
    "\n",
    "#total missing columns\n",
    "print(data.isna().sum())\n",
    "\n",
    "#where there is no full bath above ground, \n",
    "a = np.where(df['FullBath'].values == 0)\n",
    "print(data.loc[a])"
   ]
  },
  {
   "cell_type": "code",
   "execution_count": null,
   "metadata": {},
   "outputs": [],
   "source": [
    "#Jason function for scatterplots\n",
    "sns.set()\n",
    "cols = ['WoodDeckSF',\n",
    "'OpenPorchSF',\n",
    "'EnclosedPorch',\n",
    "'3SsnPorch',\n",
    "'ScreenPorch',\n",
    "'PoolArea']\n",
    "sns.pairplot(df[cols], size = 2.5)\n",
    "plt.show();\n",
    "plt.savefig('pairplot.png',bbox_inches='tight')"
   ]
  },
  {
   "cell_type": "markdown",
   "metadata": {},
   "source": [
    "### Creates visualization for distributions"
   ]
  },
  {
   "cell_type": "code",
   "execution_count": null,
   "metadata": {},
   "outputs": [],
   "source": [
    "#show distribution of set\n",
    "sets = ['LotShape',\n",
    "'Neighborhood',\n",
    "'HouseStyle',\n",
    "'Heating',\n",
    "'CentralAir',\n",
    "'KitchenQual',\n",
    "'Functional',\n",
    "'GarageType',\n",
    "'GarageQual',\n",
    "'Fence',\n",
    "'SaleType',\n",
    "'SaleCondition']\n",
    "\n",
    "#Jaye function to count unique values\n",
    "for c in data.columns[:]:\n",
    "    if c in sets:\n",
    "        print('\\nCOLUMN: \"{}\"\\n=============================='.format(c))\n",
    "        print(data[c].value_counts(dropna=False).to_string())\n",
    "        # only include above columns categorical\n",
    "        continue"
   ]
  },
  {
   "cell_type": "markdown",
   "metadata": {},
   "source": [
    "## Features we have chosen to use after feature selection"
   ]
  },
  {
   "cell_type": "code",
   "execution_count": 30,
   "metadata": {},
   "outputs": [],
   "source": [
    "#variables we chose\n",
    "chosen = ['LotFrontage','LotArea','LotShape','HouseStyle',\n",
    "'OverallQual','OverallCond','YearBuilt','YearRemodAdd', 'CentralAir',\n",
    "'MasVnrArea','1stFlrSF','2ndFlrSF','GrLivArea','Heating',\n",
    "'BsmtFullBath','FullBath','HalfBath','BedroomAbvGr','KitchenAbvGr',\n",
    "'KitchenQual','Fireplaces','GarageType','GarageCars', 'Neighborhood',\n",
    "'WoodDeckSF','OpenPorchSF','PoolArea', 'Fence','SaleCondition']\n",
    "\n",
    "#create dataset of chosen\n",
    "fin_set = data[chosen].copy()\n",
    "fin_test = testData[chosen].copy()"
   ]
  },
  {
   "cell_type": "code",
   "execution_count": null,
   "metadata": {},
   "outputs": [],
   "source": [
    "c = fin_set.corr().abs()\n",
    "s = c.unstack()\n",
    "so = s.sort_values(kind=\"quicksort\")\n",
    "so.to_csv('./testcorr.csv')"
   ]
  },
  {
   "cell_type": "code",
   "execution_count": null,
   "metadata": {},
   "outputs": [],
   "source": [
    "fin_set.describe()"
   ]
  },
  {
   "cell_type": "markdown",
   "metadata": {},
   "source": [
    "### Clean data further, log transformation and feature engineering"
   ]
  },
  {
   "cell_type": "code",
   "execution_count": 31,
   "metadata": {},
   "outputs": [],
   "source": [
    "fin_set['PoolArea'] = fin_set['PoolArea'].apply(lambda x: 1 if x>0 else 0)\n",
    "fin_set['Fireplaces'] = fin_set['Fireplaces'].apply(lambda x: 'y' if x>0 else 'n')"
   ]
  },
  {
   "cell_type": "code",
   "execution_count": 32,
   "metadata": {},
   "outputs": [],
   "source": [
    "fin_set['LotArea'] = np.log(fin_set['LotArea'])\n",
    "#fin_set['MasVnrArea'] = np.log(fin_set['MasVnrArea'])\n",
    "#fin_set['2ndFlrSF'] = np.log(fin_set['2ndFlrSF'])\n",
    "#fin_set['OpenPorchSF'] = np.log(fin_set['OpenPorchSF'])"
   ]
  },
  {
   "cell_type": "markdown",
   "metadata": {},
   "source": [
    "## Num_Cleaner\n",
    "\n",
    "Takes in a dataframe and returns only int and floats with na's imputed with mean value"
   ]
  },
  {
   "cell_type": "code",
   "execution_count": 5,
   "metadata": {},
   "outputs": [],
   "source": [
    "#find numeric columns in given df,replace missing rows with column mean, return dataframe\n",
    "def num_cleaner (df):\n",
    "    numerics = ['int16', 'int32', 'int64', 'float16', 'float32', 'float64']\n",
    "    cl_df = pd.DataFrame()\n",
    "\n",
    "    df2 = df.select_dtypes(include=numerics).copy() #only numeric columns\n",
    "    nullCols = df2.isnull() #df of T/F, T if null (bool mask)\n",
    "    means = df2.mean() #series of mean per column\n",
    "\n",
    "    for c in df2:\n",
    "        for r in range(0,len(df2)-1):\n",
    "            if df2[c].iloc[r] and nullCols[c].iloc[r]:\n",
    "                df2[c].iloc[r] = means[c]\n",
    "\n",
    "    cl_df = df2.copy() #this will return only numeric features, need to add back type ob features after cleaning/dummify them\n",
    "    return cl_df"
   ]
  },
  {
   "cell_type": "markdown",
   "metadata": {},
   "source": [
    "## Dummify dataframe\n",
    "Find object types and dummify the columns"
   ]
  },
  {
   "cell_type": "code",
   "execution_count": 6,
   "metadata": {},
   "outputs": [],
   "source": [
    "#dummify object columns and return dataframe\n",
    "def mass_dummify (df):\n",
    "    df2 = df.select_dtypes(include=object).copy()\n",
    "    dum_df = pd.get_dummies(df2) #currently 61 columns, no neighborhoods\n",
    "    return dum_df"
   ]
  },
  {
   "cell_type": "markdown",
   "metadata": {},
   "source": [
    "## Lasso Regression Visualization\n",
    "\n",
    "Given many lambdas (alphas), graph an elastic net function with amount given. \n",
    "\n",
    "Only 10 colors available on graph"
   ]
  },
  {
   "cell_type": "code",
   "execution_count": null,
   "metadata": {},
   "outputs": [],
   "source": [
    "#lasso reg vizualization for many lamdas\n",
    "def lassoReg (alphas, df, target):\n",
    "\n",
    "    lasso  = Lasso()\n",
    "    #alphas = np.linspace(0.1,20.1,20)\n",
    "    lasso.set_params(normalize=False)\n",
    "    coefs_lasso  = []\n",
    "\n",
    "    for alpha in alphas:\n",
    "        lasso.set_params(alpha=alpha)\n",
    "        lasso.fit(df, target)  \n",
    "        coefs_lasso.append(lasso.coef_)\n",
    "\n",
    "    coefs_lasso = pd.DataFrame(coefs_lasso, index = alphas, columns = df.columns)  \n",
    "    #coefs_lasso.head()\n",
    "    \n",
    "    plt.rcParams['figure.figsize'] = (20,20)\n",
    "    for name in coefs_lasso.columns:\n",
    "        plt.plot(coefs_lasso.index, coefs_lasso[name], label=name)\n",
    "        \n",
    "        \n",
    "    plt.xlabel(r'hyperparameter $\\lambda$')\n",
    "    plt.ylabel(r'slope values')\n",
    "    plt.legend(loc=1)"
   ]
  },
  {
   "cell_type": "markdown",
   "metadata": {},
   "source": [
    "## Elastic Net Visualization\n",
    "Given many lambdas (alphas), graph an elastic net function with amount given. \n",
    "\n",
    "rho = 1 lasso regression, rho = 0 ridge regression.\n",
    "\n",
    "Only 10 colors available on graph"
   ]
  },
  {
   "cell_type": "code",
   "execution_count": 47,
   "metadata": {},
   "outputs": [],
   "source": [
    "#elastisc net vizualization graph for many lambdas\n",
    "def elasticNet (alphas, df, target, rho):\n",
    "\n",
    "    elasticnet = ElasticNet()\n",
    "    elasticnet.set_params(normalize=False)\n",
    "    coefs_model  = []\n",
    "    #run through many alphas(lambdas)\n",
    "    for alpha in alphas:\n",
    "        elasticnet.set_params(alpha=alpha, l1_ratio= rho)\n",
    "        elasticnet.fit(df, target)  \n",
    "        coefs_model.append(elasticnet.coef_)\n",
    "\n",
    "    coefs_model = pd.DataFrame(coefs_model, index = alphas, columns = df.columns)  \n",
    "    \n",
    "    #plot all the figures for different lambda\n",
    "    plt.rcParams['figure.figsize'] = (20,20)\n",
    "    for name in coefs_model.columns:\n",
    "        plt.plot(coefs_model.index, coefs_model[name], label=name)\n",
    "            \n",
    "    plt.xlabel(r'hyperparameter $\\lambda$')\n",
    "    plt.ylabel(r'slope values')\n",
    "    plt.legend(loc=1)"
   ]
  },
  {
   "cell_type": "code",
   "execution_count": 72,
   "metadata": {
    "collapsed": true
   },
   "outputs": [
    {
     "name": "stderr",
     "output_type": "stream",
     "text": [
      "C:\\Users\\conma\\Anaconda3\\lib\\site-packages\\pandas\\core\\indexing.py:205: SettingWithCopyWarning: \n",
      "A value is trying to be set on a copy of a slice from a DataFrame\n",
      "\n",
      "See the caveats in the documentation: http://pandas.pydata.org/pandas-docs/stable/user_guide/indexing.html#returning-a-view-versus-a-copy\n",
      "  self._setitem_with_indexer(indexer, value)\n"
     ]
    },
    {
     "data": {
      "image/png": "[encoded data removed]",
      "text/plain": [
       "<Figure size 1440x1440 with 1 Axes>"
      ]
     },
     "metadata": {
      "needs_background": "light"
     },
     "output_type": "display_data"
    }
   ],
   "source": [
    "#lambda\n",
    "alphas = np.linspace(1e-3,1e4,20)\n",
    "#target\n",
    "prices = pd.Series(data.SalePrice)\n",
    "#only num & no NA\n",
    "cleaned = num_cleaner(fin_set).copy()\n",
    "#cleaned2 = num_cleaner(data).copy()\n",
    "#elasticNet visualization for multiple lambda\n",
    "elasticNet(alphas,cleaned.iloc[:,:9],prices,1) #1 for lasso, 0 for ridge, mixture is elastic net"
   ]
  },
  {
   "cell_type": "markdown",
   "metadata": {},
   "source": [
    "## Outputs an elastic net model that has been fitted to dataframe and target\n",
    "rho = 1 is lasso regressoion, rho=0 is ridge regression"
   ]
  },
  {
   "cell_type": "code",
   "execution_count": null,
   "metadata": {},
   "outputs": [],
   "source": [
    "#returns elasticNet based on one lambda\n",
    "def elasticNetModel (alpha, df, target, rho):\n",
    "    \n",
    "    elasticnet = ElasticNet()\n",
    "    elasticnet.set_params(normalize=False,l1ratio = rho)\n",
    "    model = elasticnet.fit(df,target)\n",
    "    return model"
   ]
  },
  {
   "cell_type": "markdown",
   "metadata": {},
   "source": [
    "### Clean code using functions"
   ]
  },
  {
   "cell_type": "code",
   "execution_count": 33,
   "metadata": {},
   "outputs": [
    {
     "name": "stderr",
     "output_type": "stream",
     "text": [
      "C:\\Users\\conma\\Anaconda3\\lib\\site-packages\\pandas\\core\\indexing.py:205: SettingWithCopyWarning: \n",
      "A value is trying to be set on a copy of a slice from a DataFrame\n",
      "\n",
      "See the caveats in the documentation: http://pandas.pydata.org/pandas-docs/stable/user_guide/indexing.html#returning-a-view-versus-a-copy\n",
      "  self._setitem_with_indexer(indexer, value)\n"
     ]
    }
   ],
   "source": [
    "num_clean = num_cleaner(fin_set).copy()\n",
    "ob_clean = mass_dummify(fin_set).copy()\n",
    "#combine num & ob dataset for Train\n",
    "cl_df = pd.concat([num_clean,ob_clean],axis=1)"
   ]
  },
  {
   "cell_type": "code",
   "execution_count": 52,
   "metadata": {},
   "outputs": [
    {
     "name": "stderr",
     "output_type": "stream",
     "text": [
      "C:\\Users\\conma\\Anaconda3\\lib\\site-packages\\pandas\\core\\indexing.py:205: SettingWithCopyWarning: \n",
      "A value is trying to be set on a copy of a slice from a DataFrame\n",
      "\n",
      "See the caveats in the documentation: http://pandas.pydata.org/pandas-docs/stable/user_guide/indexing.html#returning-a-view-versus-a-copy\n",
      "  self._setitem_with_indexer(indexer, value)\n"
     ]
    }
   ],
   "source": [
    "df1 = num_cleaner(fin_test)\n",
    "df2 = mass_dummify(fin_test)\n",
    "#combine Test sets\n",
    "cl_test = pd.concat([df1,df2],axis = 1)"
   ]
  },
  {
   "cell_type": "markdown",
   "metadata": {},
   "source": [
    "## Multi-linear regression model"
   ]
  },
  {
   "cell_type": "code",
   "execution_count": 8,
   "metadata": {
    "collapsed": true
   },
   "outputs": [
    {
     "name": "stdout",
     "output_type": "stream",
     "text": [
      "                            OLS Regression Results                            \n",
      "==============================================================================\n",
      "Dep. Variable:              SalePrice   R-squared:                       0.858\n",
      "Model:                            OLS   Adj. R-squared:                  0.850\n",
      "Method:                 Least Squares   F-statistic:                     107.3\n",
      "Date:                Mon, 02 Mar 2020   Prob (F-statistic):               0.00\n",
      "Time:                        07:12:59   Log-Likelihood:                -17117.\n",
      "No. Observations:                1460   AIC:                         3.439e+04\n",
      "Df Residuals:                    1381   BIC:                         3.481e+04\n",
      "Df Model:                          78                                         \n",
      "Covariance Type:            nonrobust                                         \n",
      "=========================================================================================\n",
      "                            coef    std err          t      P>|t|      [0.025      0.975]\n",
      "-----------------------------------------------------------------------------------------\n",
      "const                  -1.44e+05   5.82e+04     -2.475      0.013   -2.58e+05   -2.99e+04\n",
      "LotFrontage             -11.4215     47.698     -0.239      0.811    -104.991      82.148\n",
      "LotArea                   0.5254      0.102      5.138      0.000       0.325       0.726\n",
      "OverallQual            1.139e+04   1163.684      9.786      0.000    9105.175    1.37e+04\n",
      "OverallCond            5972.0032    975.842      6.120      0.000    4057.710    7886.296\n",
      "YearBuilt               207.9265     74.079      2.807      0.005      62.607     353.246\n",
      "YearRemodAdd             -1.1607     64.985     -0.018      0.986    -128.642     126.320\n",
      "MasVnrArea               12.4900      5.667      2.204      0.028       1.373      23.607\n",
      "1stFlrSF                 13.8905     22.659      0.613      0.540     -30.560      58.341\n",
      "2ndFlrSF                 31.1047     21.994      1.414      0.158     -12.040      74.250\n",
      "GrLivArea                40.8174     22.429      1.820      0.069      -3.180      84.815\n",
      "BsmtFullBath           1.251e+04   1797.467      6.959      0.000    8982.985     1.6e+04\n",
      "FullBath               5287.2049   2670.656      1.980      0.048      48.223    1.05e+04\n",
      "HalfBath               3883.1052   2521.157      1.540      0.124   -1062.607    8828.817\n",
      "BedroomAbvGr          -1460.2299   1423.131     -1.026      0.305   -4251.963    1331.503\n",
      "KitchenAbvGr          -2.234e+04   4596.139     -4.860      0.000   -3.14e+04   -1.33e+04\n",
      "GarageCars             1.417e+04   1971.747      7.185      0.000    1.03e+04     1.8e+04\n",
      "WoodDeckSF               23.0382      7.217      3.192      0.001       8.881      37.195\n",
      "OpenPorchSF               4.6806     13.912      0.336      0.737     -22.610      31.971\n",
      "PoolArea              -1.036e+04   1.29e+04     -0.801      0.423   -3.57e+04     1.5e+04\n",
      "LotShape_IR1          -3.102e+04   1.46e+04     -2.126      0.034   -5.96e+04   -2403.718\n",
      "LotShape_IR2          -2.109e+04   1.52e+04     -1.389      0.165   -5.09e+04    8704.052\n",
      "LotShape_IR3          -5.995e+04   1.72e+04     -3.483      0.001   -9.37e+04   -2.62e+04\n",
      "LotShape_Reg          -3.197e+04   1.45e+04     -2.199      0.028   -6.05e+04   -3454.406\n",
      "HouseStyle_1.5Fin     -2.265e+04   7802.683     -2.903      0.004    -3.8e+04   -7342.139\n",
      "HouseStyle_1.5Unf     -6504.8754   1.06e+04     -0.613      0.540   -2.73e+04    1.43e+04\n",
      "HouseStyle_1Story      -116.8873   8450.455     -0.014      0.989   -1.67e+04    1.65e+04\n",
      "HouseStyle_2.5Fin     -4.173e+04   1.54e+04     -2.711      0.007   -7.19e+04   -1.15e+04\n",
      "HouseStyle_2.5Unf     -2.689e+04    1.2e+04     -2.248      0.025   -5.04e+04   -3420.459\n",
      "HouseStyle_2Story     -3.226e+04   8406.751     -3.837      0.000   -4.87e+04   -1.58e+04\n",
      "HouseStyle_SFoyer     -5313.7211   9829.250     -0.541      0.589   -2.46e+04     1.4e+04\n",
      "HouseStyle_SLvl       -8584.8727   8937.832     -0.961      0.337   -2.61e+04    8948.322\n",
      "CentralAir_N          -7.231e+04   2.88e+04     -2.515      0.012   -1.29e+05   -1.59e+04\n",
      "CentralAir_Y          -7.174e+04   2.96e+04     -2.422      0.016    -1.3e+05   -1.36e+04\n",
      "Heating_Floor         -2.083e+04   2.89e+04     -0.721      0.471   -7.75e+04    3.59e+04\n",
      "Heating_GasA           -1.67e+04   1.23e+04     -1.356      0.175   -4.09e+04    7459.945\n",
      "Heating_GasW          -1.861e+04   1.34e+04     -1.386      0.166   -4.49e+04    7728.623\n",
      "Heating_Grav          -1.878e+04   1.59e+04     -1.182      0.237      -5e+04    1.24e+04\n",
      "Heating_OthW          -6.446e+04    2.2e+04     -2.926      0.003   -1.08e+05   -2.12e+04\n",
      "Heating_Wall          -4670.3424   1.78e+04     -0.263      0.793   -3.95e+04    3.02e+04\n",
      "KitchenQual_Ex        -4796.3986   1.54e+04     -0.311      0.756    -3.5e+04    2.54e+04\n",
      "KitchenQual_Fa        -4.721e+04   1.46e+04     -3.227      0.001   -7.59e+04   -1.85e+04\n",
      "KitchenQual_Gd        -4.623e+04   1.52e+04     -3.046      0.002    -7.6e+04   -1.65e+04\n",
      "KitchenQual_TA        -4.581e+04   1.44e+04     -3.180      0.002   -7.41e+04   -1.76e+04\n",
      "Fireplaces_n          -7.382e+04   2.93e+04     -2.524      0.012   -1.31e+05   -1.64e+04\n",
      "Fireplaces_y          -7.022e+04    2.9e+04     -2.422      0.016   -1.27e+05   -1.33e+04\n",
      "GarageType_2Types     -4.255e+04   1.45e+04     -2.929      0.003   -7.11e+04   -1.41e+04\n",
      "GarageType_Attchd     -1.517e+04   5178.005     -2.929      0.003   -2.53e+04   -5010.734\n",
      "GarageType_Basment    -1.808e+04   8774.469     -2.060      0.040   -3.53e+04    -862.330\n",
      "GarageType_BuiltIn    -1.815e+04   6532.854     -2.778      0.006    -3.1e+04   -5334.759\n",
      "GarageType_CarPort    -2.981e+04   1.17e+04     -2.558      0.011   -5.27e+04   -6950.025\n",
      "GarageType_Detchd      -1.83e+04   5130.683     -3.567      0.000   -2.84e+04   -8235.325\n",
      "Neighborhood_Blmngtn  -2.013e+04   8562.839     -2.351      0.019   -3.69e+04   -3331.095\n",
      "Neighborhood_Blueste  -3.115e+04   2.17e+04     -1.434      0.152   -7.38e+04    1.15e+04\n",
      "Neighborhood_BrDale   -1.998e+04   8572.042     -2.330      0.020   -3.68e+04   -3160.205\n",
      "Neighborhood_BrkSide  -4767.3242   5039.029     -0.946      0.344   -1.47e+04    5117.655\n",
      "Neighborhood_ClearCr  -5443.7795   6658.065     -0.818      0.414   -1.85e+04    7617.235\n",
      "Neighborhood_CollgCr  -4380.4243   4605.256     -0.951      0.342   -1.34e+04    4653.629\n",
      "Neighborhood_Crawfor   1.584e+04   4961.639      3.193      0.001    6107.893    2.56e+04\n",
      "Neighborhood_Edwards  -2.338e+04   4168.633     -5.609      0.000   -3.16e+04   -1.52e+04\n",
      "Neighborhood_Gilbert  -9080.9079   5475.378     -1.658      0.097   -1.98e+04    1660.049\n",
      "Neighborhood_IDOTRR   -1.156e+04   5969.051     -1.937      0.053   -2.33e+04     149.499\n",
      "Neighborhood_MeadowV  -2.758e+04   8239.339     -3.347      0.001   -4.37e+04   -1.14e+04\n",
      "Neighborhood_Mitchel  -1.349e+04   5572.288     -2.422      0.016   -2.44e+04   -2562.880\n",
      "Neighborhood_NAmes    -1.271e+04   3397.137     -3.742      0.000   -1.94e+04   -6048.657\n",
      "Neighborhood_NPkVill  -1.947e+04   1.04e+04     -1.866      0.062   -3.99e+04     997.563\n",
      "Neighborhood_NWAmes   -2.033e+04   4647.862     -4.373      0.000   -2.94e+04   -1.12e+04\n",
      "Neighborhood_NoRidge   4.236e+04   6426.185      6.592      0.000    2.98e+04     5.5e+04\n",
      "Neighborhood_NridgHt   2.876e+04   5656.180      5.084      0.000    1.77e+04    3.99e+04\n",
      "Neighborhood_OldTown  -1.816e+04   4134.797     -4.392      0.000   -2.63e+04      -1e+04\n",
      "Neighborhood_SWISU    -1.457e+04   7080.601     -2.057      0.040   -2.85e+04    -677.804\n",
      "Neighborhood_Sawyer   -1.362e+04   4663.648     -2.921      0.004   -2.28e+04   -4473.352\n",
      "Neighborhood_SawyerW  -7475.8482   5191.761     -1.440      0.150   -1.77e+04    2708.742\n",
      "Neighborhood_Somerst   3555.8035   5402.156      0.658      0.511   -7041.515    1.42e+04\n",
      "Neighborhood_StoneBr   3.595e+04   7126.709      5.045      0.000     2.2e+04    4.99e+04\n",
      "Neighborhood_Timber    -791.2117   6157.102     -0.129      0.898   -1.29e+04    1.13e+04\n",
      "Neighborhood_Veenker   7552.5107   9619.747      0.785      0.433   -1.13e+04    2.64e+04\n",
      "Fence_GdPrv           -4996.2597   4454.284     -1.122      0.262   -1.37e+04    3741.635\n",
      "Fence_GdWo            -1237.8137   4496.246     -0.275      0.783   -1.01e+04    7582.396\n",
      "Fence_MnPrv            1843.9859   2798.987      0.659      0.510   -3646.739    7334.711\n",
      "Fence_MnWw              958.1679   9640.767      0.099      0.921    -1.8e+04    1.99e+04\n",
      "SaleCondition_Abnorml -3.413e+04   1.03e+04     -3.304      0.001   -5.44e+04   -1.39e+04\n",
      "SaleCondition_AdjLand -1.561e+04   1.66e+04     -0.943      0.346   -4.81e+04    1.69e+04\n",
      "SaleCondition_Alloca  -3.095e+04   1.31e+04     -2.365      0.018   -5.66e+04   -5275.021\n",
      "SaleCondition_Family  -2.864e+04   1.19e+04     -2.413      0.016   -5.19e+04   -5360.801\n",
      "SaleCondition_Normal  -2.574e+04   1.02e+04     -2.515      0.012   -4.58e+04   -5660.468\n",
      "SaleCondition_Partial -8976.8861    1.1e+04     -0.816      0.415   -3.06e+04    1.26e+04\n",
      "==============================================================================\n",
      "Omnibus:                      503.745   Durbin-Watson:                   1.900\n",
      "Prob(Omnibus):                  0.000   Jarque-Bera (JB):            58926.688\n",
      "Skew:                          -0.546   Prob(JB):                         0.00\n",
      "Kurtosis:                      34.104   Cond. No.                     4.29e+16\n",
      "==============================================================================\n",
      "\n",
      "Warnings:\n",
      "[1] Standard Errors assume that the covariance matrix of the errors is correctly specified.\n",
      "[2] The smallest eigenvalue is 1.72e-22. This might indicate that there are\n",
      "strong multicollinearity problems or that the design matrix is singular.\n"
     ]
    },
    {
     "name": "stderr",
     "output_type": "stream",
     "text": [
      "C:\\Users\\conma\\Anaconda3\\lib\\site-packages\\numpy\\core\\fromnumeric.py:2223: FutureWarning: Method .ptp is deprecated and will be removed in a future version. Use numpy.ptp instead.\n",
      "  return ptp(axis=axis, out=out, **kwargs)\n"
     ]
    }
   ],
   "source": [
    "#multi-linear regression\n",
    "X_add_const = sm.add_constant(cl_df)\n",
    "y = data.SalePrice\n",
    "ols = sm.OLS(y, X_add_const)\n",
    "model = ols.fit()\n",
    "\n",
    "print(model.summary())"
   ]
  },
  {
   "cell_type": "markdown",
   "metadata": {},
   "source": [
    "## Grid search CV for finding best lambda"
   ]
  },
  {
   "cell_type": "code",
   "execution_count": 70,
   "metadata": {},
   "outputs": [
    {
     "data": {
      "text/plain": [
       "GridSearchCV(cv=5, error_score='raise-deprecating',\n",
       "             estimator=Ridge(alpha=1.0, copy_X=True, fit_intercept=True,\n",
       "                             max_iter=None, normalize=False, random_state=None,\n",
       "                             solver='auto', tol=0.001),\n",
       "             iid='warn', n_jobs=None,\n",
       "             param_grid={'alpha': array([1.00000000e-06, 2.04081731e+00, 4.08163361e+00, 6.12244992e+00,\n",
       "       8.16326622e+00, 1.02040825e+01, 1.22448988e+01, 1.42857151e+01,...\n",
       "       6.53061228e+01, 6.73469391e+01, 6.93877554e+01, 7.14285717e+01,\n",
       "       7.34693880e+01, 7.55102043e+01, 7.75510206e+01, 7.95918369e+01,\n",
       "       8.16326532e+01, 8.36734696e+01, 8.57142859e+01, 8.77551022e+01,\n",
       "       8.97959185e+01, 9.18367348e+01, 9.38775511e+01, 9.59183674e+01,\n",
       "       9.79591837e+01, 1.00000000e+02])},\n",
       "             pre_dispatch='2*n_jobs', refit=True, return_train_score=False,\n",
       "             scoring=None, verbose=0)"
      ]
     },
     "execution_count": 70,
     "metadata": {},
     "output_type": "execute_result"
    }
   ],
   "source": [
    "#trying to get best lambda\n",
    "target = pd.Series(data.SalePrice)\n",
    "params = {'alpha':np.linspace(1e-6,100,50)}\n",
    "lasso_regressor = GridSearchCV(estimator = Ridge(), param_grid = params, cv=5)#, scoring = 'neg_mean_squared_error',cv=5)\n",
    "lasso_regressor.fit(cl_df,target)"
   ]
  },
  {
   "cell_type": "code",
   "execution_count": 58,
   "metadata": {},
   "outputs": [
    {
     "name": "stdout",
     "output_type": "stream",
     "text": [
      "{'alpha': 100.0}\n",
      "0.8334894803401925\n"
     ]
    }
   ],
   "source": [
    "print(lasso_regressor.best_params_)\n",
    "print(lasso_regressor.best_score_)"
   ]
  },
  {
   "cell_type": "markdown",
   "metadata": {},
   "source": [
    "### Train test split to be able to test results"
   ]
  },
  {
   "cell_type": "code",
   "execution_count": 60,
   "metadata": {},
   "outputs": [],
   "source": [
    "X_train, X_test, Y_train, Y_test = train_test_split(cl_df,data.SalePrice,test_size=.3)"
   ]
  },
  {
   "cell_type": "markdown",
   "metadata": {},
   "source": [
    "## Create elastic net model and print values"
   ]
  },
  {
   "cell_type": "code",
   "execution_count": 63,
   "metadata": {
    "scrolled": true
   },
   "outputs": [
    {
     "name": "stdout",
     "output_type": "stream",
     "text": [
      "The train R^2 is 0.8970\n",
      "The test R^2 is 0.8893\n",
      "Mean Squared Error (MSE): 0.017289186203820812\n"
     ]
    }
   ],
   "source": [
    "netModel = ElasticNet(alpha = 1e-5,normalize=True,l1_ratio = .5)\n",
    "y_train = np.log(Y_train)\n",
    "y_test = np.log(Y_test)\n",
    "netModel.fit(X_train,y_train)\n",
    "netPredict = netModel.predict(cl_df)\n",
    "print(r'The train R^2 is %.4f' %(netModel.score(X_train,y_train)))\n",
    "print(r'The test R^2 is %.4f' %(netModel.score(X_test, y_test)))\n",
    "print('Mean Squared Error (MSE):', mean_squared_error(y_test, netModel.predict(X_test)))"
   ]
  },
  {
   "cell_type": "code",
   "execution_count": 64,
   "metadata": {},
   "outputs": [],
   "source": [
    "submission = pd.DataFrame()\n",
    "submission['Id'] = testData.Id\n",
    "submission['SalePrice']= pd.DataFrame(np.exp(netPredict))\n",
    "submission.to_csv(\"./submissionFile.csv\",index = False)"
   ]
  },
  {
   "cell_type": "markdown",
   "metadata": {},
   "source": [
    "## Create lasso regression model and print values"
   ]
  },
  {
   "cell_type": "code",
   "execution_count": 69,
   "metadata": {
    "scrolled": true
   },
   "outputs": [
    {
     "name": "stdout",
     "output_type": "stream",
     "text": [
      "The train R^2 is 0.8861\n",
      "The test R^2 is 0.8954\n",
      "Mean Squared Error (MSE): 0.01632691340142222\n"
     ]
    }
   ],
   "source": [
    "lasso = ElasticNet(alpha=1e-3,normalize=False,l1_ratio=1)\n",
    "lasso.fit(X_train,y_train)\n",
    "lasPredict = lasso.predict(cl_df)\n",
    "print(r'The train R^2 is %.4f' %(lasso.score(X_train,y_train)))\n",
    "print(r'The test R^2 is %.4f' %(lasso.score(X_test, y_test)))\n",
    "print('Mean Squared Error (MSE):', mean_squared_error(y_test, lasso.predict(X_test)))"
   ]
  },
  {
   "cell_type": "code",
   "execution_count": null,
   "metadata": {},
   "outputs": [],
   "source": [
    "submissionLas = pd.DataFrame()\n",
    "submissionLas['Id'] = testData.Id\n",
    "submissionLas['SalePrice']= pd.DataFrame(np.exp(lasPredict))\n",
    "submissionLas.to_csv(\"./submissionFileLasso.csv\",index = False)"
   ]
  },
  {
   "cell_type": "markdown",
   "metadata": {},
   "source": [
    "## Create ridge regression model and print values"
   ]
  },
  {
   "cell_type": "code",
   "execution_count": 68,
   "metadata": {},
   "outputs": [
    {
     "name": "stdout",
     "output_type": "stream",
     "text": [
      "The train R^2 is 0.8861\n",
      "The test R^2 is 0.8954\n",
      "Mean Squared Error (MSE): 0.01632691340142222\n"
     ]
    },
    {
     "name": "stderr",
     "output_type": "stream",
     "text": [
      "C:\\Users\\conma\\Anaconda3\\lib\\site-packages\\sklearn\\linear_model\\coordinate_descent.py:475: ConvergenceWarning: Objective did not converge. You might want to increase the number of iterations. Duality gap: 20.887250617406092, tolerance: 0.016440502417842975\n",
      "  positive)\n"
     ]
    }
   ],
   "source": [
    "ridge = ElasticNet(alpha=7.9591838775510215,normalize=False,l1_ratio=0)\n",
    "ridge.fit(X_train,y_train)\n",
    "print(r'The train R^2 is %.4f' %(lasso.score(X_train,y_train)))\n",
    "print(r'The test R^2 is %.4f' %(lasso.score(X_test, y_test)))\n",
    "print('Mean Squared Error (MSE):', mean_squared_error(y_test, lasso.predict(X_test)))"
   ]
  }
 ],
 "metadata": {
  "kernelspec": {
   "display_name": "Python 3",
   "language": "python",
   "name": "python3"
  },
  "language_info": {
   "codemirror_mode": {
    "name": "ipython",
    "version": 3
   },
   "file_extension": ".py",
   "mimetype": "text/x-python",
   "name": "python",
   "nbconvert_exporter": "python",
   "pygments_lexer": "ipython3",
   "version": "3.7.4"
  }
 },
 "nbformat": 4,
 "nbformat_minor": 2
}
