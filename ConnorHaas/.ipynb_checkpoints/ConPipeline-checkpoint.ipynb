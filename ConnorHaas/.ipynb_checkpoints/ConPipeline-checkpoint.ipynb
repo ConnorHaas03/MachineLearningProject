{
 "cells": [
  {
   "cell_type": "code",
   "execution_count": 1,
   "metadata": {},
   "outputs": [],
   "source": [
    "import pandas as pd\n",
    "import numpy as np\n",
    "import matplotlib.pyplot as plt\n",
    "import seaborn as sns\n",
    "from sklearn.linear_model import LinearRegression, Ridge, Lasso, ElasticNet, RidgeCV, LassoCV\n",
    "from scipy import stats\n",
    "from sklearn.neighbors import KNeighborsClassifier\n",
    "from sklearn.metrics import mean_squared_error\n",
    "from math import sqrt\n",
    "import statsmodels.api as sm\n",
    "from sklearn.model_selection import train_test_split, KFold, GridSearchCV"
   ]
  },
  {
   "cell_type": "code",
   "execution_count": 2,
   "metadata": {},
   "outputs": [],
   "source": [
    "data = pd.read_csv('../train.csv')\n",
    "testData = pd.read_csv('../test.csv')"
   ]
  },
  {
   "cell_type": "markdown",
   "metadata": {},
   "source": [
    "\n",
    "## Here are our corr matrix for feature selection"
   ]
  },
  {
   "cell_type": "code",
   "execution_count": null,
   "metadata": {},
   "outputs": [],
   "source": [
    "#visual correlation matrix\n",
    "f = plt.figure(figsize=(25,25))\n",
    "plt.matshow(data.corr(), fignum=f.number)\n",
    "cb = plt.colorbar()\n",
    "\n",
    "#correlation matrix to csv\n",
    "c = data.corr().abs()\n",
    "s = c.unstack()\n",
    "so = s.sort_values(kind=\"quicksort\")\n",
    "so.to_csv('./corr.csv')\n",
    "\n",
    "#corr matrix of fin chosen set\n",
    "c = fin_set.corr().abs()\n",
    "s = c.unstack()\n",
    "so = s.sort_values(kind=\"quicksort\")\n",
    "so.to_csv('./finalSetcorr.csv')"
   ]
  },
  {
   "cell_type": "code",
   "execution_count": null,
   "metadata": {},
   "outputs": [],
   "source": [
    "#percentage of missing per column\n",
    "print((data.count() / len(data)) *100)\n",
    "\n",
    "#total missing columns\n",
    "print(data.isna().sum())\n",
    "\n",
    "#where there is no full bath above ground, \n",
    "a = np.where(df['FullBath'].values == 0)\n",
    "print(data.loc[a])"
   ]
  },
  {
   "cell_type": "code",
   "execution_count": null,
   "metadata": {},
   "outputs": [],
   "source": [
    "#Jason function for scatterplots\n",
    "sns.set()\n",
    "cols = ['WoodDeckSF',\n",
    "'OpenPorchSF',\n",
    "'EnclosedPorch',\n",
    "'3SsnPorch',\n",
    "'ScreenPorch',\n",
    "'PoolArea']\n",
    "sns.pairplot(df[cols], size = 2.5)\n",
    "plt.show();\n",
    "plt.savefig('pairplot.png',bbox_inches='tight')"
   ]
  },
  {
   "cell_type": "markdown",
   "metadata": {},
   "source": [
    "### Creates visualization for distributions"
   ]
  },
  {
   "cell_type": "code",
   "execution_count": null,
   "metadata": {},
   "outputs": [],
   "source": [
    "#show distribution of set\n",
    "sets = ['LotShape',\n",
    "'Neighborhood',\n",
    "'HouseStyle',\n",
    "'Heating',\n",
    "'CentralAir',\n",
    "'KitchenQual',\n",
    "'Functional',\n",
    "'GarageType',\n",
    "'GarageQual',\n",
    "'Fence',\n",
    "'SaleType',\n",
    "'SaleCondition']\n",
    "\n",
    "#Jaye function to count unique values\n",
    "for c in data.columns[:]:\n",
    "    if c in sets:\n",
    "        print('\\nCOLUMN: \"{}\"\\n=============================='.format(c))\n",
    "        print(data[c].value_counts(dropna=False).to_string())\n",
    "        # only include above columns categorical\n",
    "        continue"
   ]
  },
  {
   "cell_type": "markdown",
   "metadata": {},
   "source": [
    "## Features we have chosen to use after feature selection"
   ]
  },
  {
   "cell_type": "code",
   "execution_count": 42,
   "metadata": {},
   "outputs": [],
   "source": [
    "#variables we chose\n",
    "chosen = ['LotFrontage','LotArea','LotShape','HouseStyle',\n",
    "'OverallQual','OverallCond','YearBuilt','YearRemodAdd', 'CentralAir',\n",
    "'MasVnrArea','1stFlrSF','2ndFlrSF','GrLivArea','Heating','Neighborhood',\n",
    "'BsmtFullBath','FullBath','HalfBath','BedroomAbvGr','KitchenAbvGr',\n",
    "'KitchenQual','Fireplaces','GarageType','GarageCars',\n",
    "'WoodDeckSF','OpenPorchSF','PoolArea', 'Fence','SaleCondition']\n",
    "\n",
    "#create dataset of chosen\n",
    "fin_set = data[chosen].copy()\n",
    "fin_test = testData[chosen].copy()"
   ]
  },
  {
   "cell_type": "code",
   "execution_count": 35,
   "metadata": {
    "collapsed": true
   },
   "outputs": [
    {
     "data": {
      "text/html": [
       "<div>\n",
       "<style scoped>\n",
       "    .dataframe tbody tr th:only-of-type {\n",
       "        vertical-align: middle;\n",
       "    }\n",
       "\n",
       "    .dataframe tbody tr th {\n",
       "        vertical-align: top;\n",
       "    }\n",
       "\n",
       "    .dataframe thead th {\n",
       "        text-align: right;\n",
       "    }\n",
       "</style>\n",
       "<table border=\"1\" class=\"dataframe\">\n",
       "  <thead>\n",
       "    <tr style=\"text-align: right;\">\n",
       "      <th></th>\n",
       "      <th>LotFrontage</th>\n",
       "      <th>LotArea</th>\n",
       "      <th>OverallQual</th>\n",
       "      <th>OverallCond</th>\n",
       "      <th>YearBuilt</th>\n",
       "      <th>YearRemodAdd</th>\n",
       "      <th>MasVnrArea</th>\n",
       "      <th>1stFlrSF</th>\n",
       "      <th>2ndFlrSF</th>\n",
       "      <th>GrLivArea</th>\n",
       "      <th>BsmtFullBath</th>\n",
       "      <th>FullBath</th>\n",
       "      <th>HalfBath</th>\n",
       "      <th>BedroomAbvGr</th>\n",
       "      <th>KitchenAbvGr</th>\n",
       "      <th>Fireplaces</th>\n",
       "      <th>GarageCars</th>\n",
       "      <th>WoodDeckSF</th>\n",
       "      <th>OpenPorchSF</th>\n",
       "      <th>PoolArea</th>\n",
       "    </tr>\n",
       "  </thead>\n",
       "  <tbody>\n",
       "    <tr>\n",
       "      <td>count</td>\n",
       "      <td>1201.000000</td>\n",
       "      <td>1460.000000</td>\n",
       "      <td>1460.000000</td>\n",
       "      <td>1460.000000</td>\n",
       "      <td>1460.000000</td>\n",
       "      <td>1460.000000</td>\n",
       "      <td>1452.000000</td>\n",
       "      <td>1460.000000</td>\n",
       "      <td>1460.000000</td>\n",
       "      <td>1460.000000</td>\n",
       "      <td>1460.000000</td>\n",
       "      <td>1460.000000</td>\n",
       "      <td>1460.000000</td>\n",
       "      <td>1460.000000</td>\n",
       "      <td>1460.000000</td>\n",
       "      <td>1460.000000</td>\n",
       "      <td>1460.000000</td>\n",
       "      <td>1460.000000</td>\n",
       "      <td>1460.000000</td>\n",
       "      <td>1460.000000</td>\n",
       "    </tr>\n",
       "    <tr>\n",
       "      <td>mean</td>\n",
       "      <td>70.049958</td>\n",
       "      <td>10516.828082</td>\n",
       "      <td>6.099315</td>\n",
       "      <td>5.575342</td>\n",
       "      <td>1971.267808</td>\n",
       "      <td>1984.865753</td>\n",
       "      <td>103.685262</td>\n",
       "      <td>1162.626712</td>\n",
       "      <td>346.992466</td>\n",
       "      <td>1515.463699</td>\n",
       "      <td>0.425342</td>\n",
       "      <td>1.565068</td>\n",
       "      <td>0.382877</td>\n",
       "      <td>2.866438</td>\n",
       "      <td>1.046575</td>\n",
       "      <td>0.613014</td>\n",
       "      <td>1.767123</td>\n",
       "      <td>94.244521</td>\n",
       "      <td>46.660274</td>\n",
       "      <td>2.758904</td>\n",
       "    </tr>\n",
       "    <tr>\n",
       "      <td>std</td>\n",
       "      <td>24.284752</td>\n",
       "      <td>9981.264932</td>\n",
       "      <td>1.382997</td>\n",
       "      <td>1.112799</td>\n",
       "      <td>30.202904</td>\n",
       "      <td>20.645407</td>\n",
       "      <td>181.066207</td>\n",
       "      <td>386.587738</td>\n",
       "      <td>436.528436</td>\n",
       "      <td>525.480383</td>\n",
       "      <td>0.518911</td>\n",
       "      <td>0.550916</td>\n",
       "      <td>0.502885</td>\n",
       "      <td>0.815778</td>\n",
       "      <td>0.220338</td>\n",
       "      <td>0.644666</td>\n",
       "      <td>0.747315</td>\n",
       "      <td>125.338794</td>\n",
       "      <td>66.256028</td>\n",
       "      <td>40.177307</td>\n",
       "    </tr>\n",
       "    <tr>\n",
       "      <td>min</td>\n",
       "      <td>21.000000</td>\n",
       "      <td>1300.000000</td>\n",
       "      <td>1.000000</td>\n",
       "      <td>1.000000</td>\n",
       "      <td>1872.000000</td>\n",
       "      <td>1950.000000</td>\n",
       "      <td>0.000000</td>\n",
       "      <td>334.000000</td>\n",
       "      <td>0.000000</td>\n",
       "      <td>334.000000</td>\n",
       "      <td>0.000000</td>\n",
       "      <td>0.000000</td>\n",
       "      <td>0.000000</td>\n",
       "      <td>0.000000</td>\n",
       "      <td>0.000000</td>\n",
       "      <td>0.000000</td>\n",
       "      <td>0.000000</td>\n",
       "      <td>0.000000</td>\n",
       "      <td>0.000000</td>\n",
       "      <td>0.000000</td>\n",
       "    </tr>\n",
       "    <tr>\n",
       "      <td>25%</td>\n",
       "      <td>59.000000</td>\n",
       "      <td>7553.500000</td>\n",
       "      <td>5.000000</td>\n",
       "      <td>5.000000</td>\n",
       "      <td>1954.000000</td>\n",
       "      <td>1967.000000</td>\n",
       "      <td>0.000000</td>\n",
       "      <td>882.000000</td>\n",
       "      <td>0.000000</td>\n",
       "      <td>1129.500000</td>\n",
       "      <td>0.000000</td>\n",
       "      <td>1.000000</td>\n",
       "      <td>0.000000</td>\n",
       "      <td>2.000000</td>\n",
       "      <td>1.000000</td>\n",
       "      <td>0.000000</td>\n",
       "      <td>1.000000</td>\n",
       "      <td>0.000000</td>\n",
       "      <td>0.000000</td>\n",
       "      <td>0.000000</td>\n",
       "    </tr>\n",
       "    <tr>\n",
       "      <td>50%</td>\n",
       "      <td>69.000000</td>\n",
       "      <td>9478.500000</td>\n",
       "      <td>6.000000</td>\n",
       "      <td>5.000000</td>\n",
       "      <td>1973.000000</td>\n",
       "      <td>1994.000000</td>\n",
       "      <td>0.000000</td>\n",
       "      <td>1087.000000</td>\n",
       "      <td>0.000000</td>\n",
       "      <td>1464.000000</td>\n",
       "      <td>0.000000</td>\n",
       "      <td>2.000000</td>\n",
       "      <td>0.000000</td>\n",
       "      <td>3.000000</td>\n",
       "      <td>1.000000</td>\n",
       "      <td>1.000000</td>\n",
       "      <td>2.000000</td>\n",
       "      <td>0.000000</td>\n",
       "      <td>25.000000</td>\n",
       "      <td>0.000000</td>\n",
       "    </tr>\n",
       "    <tr>\n",
       "      <td>75%</td>\n",
       "      <td>80.000000</td>\n",
       "      <td>11601.500000</td>\n",
       "      <td>7.000000</td>\n",
       "      <td>6.000000</td>\n",
       "      <td>2000.000000</td>\n",
       "      <td>2004.000000</td>\n",
       "      <td>166.000000</td>\n",
       "      <td>1391.250000</td>\n",
       "      <td>728.000000</td>\n",
       "      <td>1776.750000</td>\n",
       "      <td>1.000000</td>\n",
       "      <td>2.000000</td>\n",
       "      <td>1.000000</td>\n",
       "      <td>3.000000</td>\n",
       "      <td>1.000000</td>\n",
       "      <td>1.000000</td>\n",
       "      <td>2.000000</td>\n",
       "      <td>168.000000</td>\n",
       "      <td>68.000000</td>\n",
       "      <td>0.000000</td>\n",
       "    </tr>\n",
       "    <tr>\n",
       "      <td>max</td>\n",
       "      <td>313.000000</td>\n",
       "      <td>215245.000000</td>\n",
       "      <td>10.000000</td>\n",
       "      <td>9.000000</td>\n",
       "      <td>2010.000000</td>\n",
       "      <td>2010.000000</td>\n",
       "      <td>1600.000000</td>\n",
       "      <td>4692.000000</td>\n",
       "      <td>2065.000000</td>\n",
       "      <td>5642.000000</td>\n",
       "      <td>3.000000</td>\n",
       "      <td>3.000000</td>\n",
       "      <td>2.000000</td>\n",
       "      <td>8.000000</td>\n",
       "      <td>3.000000</td>\n",
       "      <td>3.000000</td>\n",
       "      <td>4.000000</td>\n",
       "      <td>857.000000</td>\n",
       "      <td>547.000000</td>\n",
       "      <td>738.000000</td>\n",
       "    </tr>\n",
       "  </tbody>\n",
       "</table>\n",
       "</div>"
      ],
      "text/plain": [
       "       LotFrontage        LotArea  OverallQual  OverallCond    YearBuilt  \\\n",
       "count  1201.000000    1460.000000  1460.000000  1460.000000  1460.000000   \n",
       "mean     70.049958   10516.828082     6.099315     5.575342  1971.267808   \n",
       "std      24.284752    9981.264932     1.382997     1.112799    30.202904   \n",
       "min      21.000000    1300.000000     1.000000     1.000000  1872.000000   \n",
       "25%      59.000000    7553.500000     5.000000     5.000000  1954.000000   \n",
       "50%      69.000000    9478.500000     6.000000     5.000000  1973.000000   \n",
       "75%      80.000000   11601.500000     7.000000     6.000000  2000.000000   \n",
       "max     313.000000  215245.000000    10.000000     9.000000  2010.000000   \n",
       "\n",
       "       YearRemodAdd   MasVnrArea     1stFlrSF     2ndFlrSF    GrLivArea  \\\n",
       "count   1460.000000  1452.000000  1460.000000  1460.000000  1460.000000   \n",
       "mean    1984.865753   103.685262  1162.626712   346.992466  1515.463699   \n",
       "std       20.645407   181.066207   386.587738   436.528436   525.480383   \n",
       "min     1950.000000     0.000000   334.000000     0.000000   334.000000   \n",
       "25%     1967.000000     0.000000   882.000000     0.000000  1129.500000   \n",
       "50%     1994.000000     0.000000  1087.000000     0.000000  1464.000000   \n",
       "75%     2004.000000   166.000000  1391.250000   728.000000  1776.750000   \n",
       "max     2010.000000  1600.000000  4692.000000  2065.000000  5642.000000   \n",
       "\n",
       "       BsmtFullBath     FullBath     HalfBath  BedroomAbvGr  KitchenAbvGr  \\\n",
       "count   1460.000000  1460.000000  1460.000000   1460.000000   1460.000000   \n",
       "mean       0.425342     1.565068     0.382877      2.866438      1.046575   \n",
       "std        0.518911     0.550916     0.502885      0.815778      0.220338   \n",
       "min        0.000000     0.000000     0.000000      0.000000      0.000000   \n",
       "25%        0.000000     1.000000     0.000000      2.000000      1.000000   \n",
       "50%        0.000000     2.000000     0.000000      3.000000      1.000000   \n",
       "75%        1.000000     2.000000     1.000000      3.000000      1.000000   \n",
       "max        3.000000     3.000000     2.000000      8.000000      3.000000   \n",
       "\n",
       "        Fireplaces   GarageCars   WoodDeckSF  OpenPorchSF     PoolArea  \n",
       "count  1460.000000  1460.000000  1460.000000  1460.000000  1460.000000  \n",
       "mean      0.613014     1.767123    94.244521    46.660274     2.758904  \n",
       "std       0.644666     0.747315   125.338794    66.256028    40.177307  \n",
       "min       0.000000     0.000000     0.000000     0.000000     0.000000  \n",
       "25%       0.000000     1.000000     0.000000     0.000000     0.000000  \n",
       "50%       1.000000     2.000000     0.000000    25.000000     0.000000  \n",
       "75%       1.000000     2.000000   168.000000    68.000000     0.000000  \n",
       "max       3.000000     4.000000   857.000000   547.000000   738.000000  "
      ]
     },
     "execution_count": 35,
     "metadata": {},
     "output_type": "execute_result"
    }
   ],
   "source": [
    "fin_set.describe()"
   ]
  },
  {
   "cell_type": "markdown",
   "metadata": {},
   "source": [
    "### Clean data further, log transformation and feature engineering"
   ]
  },
  {
   "cell_type": "code",
   "execution_count": 43,
   "metadata": {},
   "outputs": [],
   "source": [
    "fin_set['PoolArea'] = fin_set['PoolArea'].apply(lambda x: 1 if x>0 else 0)\n",
    "fin_set['Fireplaces'] = fin_set['Fireplaces'].apply(lambda x: 'y' if x>0 else 'n')\n",
    "#fin_set['LotArea','MasVnrArea','2ndFlrSF','OpenPorchSF']"
   ]
  },
  {
   "cell_type": "markdown",
   "metadata": {},
   "source": [
    "## Num_Cleaner\n",
    "\n",
    "Takes in a dataframe and returns only int and floats with na's imputed with mean value"
   ]
  },
  {
   "cell_type": "code",
   "execution_count": 4,
   "metadata": {},
   "outputs": [],
   "source": [
    "#find numeric columns in given df,replace missing rows with column mean, return dataframe\n",
    "def num_cleaner (df):\n",
    "    numerics = ['int16', 'int32', 'int64', 'float16', 'float32', 'float64']\n",
    "    cl_df = pd.DataFrame()\n",
    "\n",
    "    df2 = df.select_dtypes(include=numerics).copy() #only numeric columns\n",
    "    nullCols = df2.isnull() #df of T/F, T if null (bool mask)\n",
    "    means = df2.mean() #series of mean per column\n",
    "\n",
    "    for c in df2:\n",
    "        for r in range(0,len(df2)-1):\n",
    "            if df2[c].iloc[r] and nullCols[c].iloc[r]:\n",
    "                df2[c].iloc[r] = means[c]\n",
    "\n",
    "    cl_df = df2.copy() #this will return only numeric features, need to add back type ob features after cleaning/dummify them\n",
    "    return cl_df"
   ]
  },
  {
   "cell_type": "markdown",
   "metadata": {},
   "source": [
    "## Dummify dataframe\n",
    "Find object types and dummify the columns"
   ]
  },
  {
   "cell_type": "code",
   "execution_count": 5,
   "metadata": {},
   "outputs": [],
   "source": [
    "#dummify object columns and return dataframe\n",
    "def mass_dummify (df):\n",
    "    df2 = df.select_dtypes(include=object).copy()\n",
    "    dum_df = pd.get_dummies(df2) #currently 61 columns, no neighborhoods\n",
    "    return dum_df"
   ]
  },
  {
   "cell_type": "markdown",
   "metadata": {},
   "source": [
    "## Lasso Regression Visualization\n",
    "\n",
    "Given many lambdas (alphas), graph an elastic net function with amount given. \n",
    "\n",
    "Only 10 colors available on graph"
   ]
  },
  {
   "cell_type": "code",
   "execution_count": null,
   "metadata": {},
   "outputs": [],
   "source": [
    "#lasso reg vizualization for many lamdas\n",
    "def lassoReg (alphas, df, target):\n",
    "\n",
    "    lasso  = Lasso()\n",
    "    #alphas = np.linspace(0.1,20.1,20)\n",
    "    lasso.set_params(normalize=False)\n",
    "    coefs_lasso  = []\n",
    "\n",
    "    for alpha in alphas:\n",
    "        lasso.set_params(alpha=alpha)\n",
    "        lasso.fit(df, target)  \n",
    "        coefs_lasso.append(lasso.coef_)\n",
    "\n",
    "    coefs_lasso = pd.DataFrame(coefs_lasso, index = alphas, columns = df.columns)  \n",
    "    #coefs_lasso.head()\n",
    "    \n",
    "    plt.rcParams['figure.figsize'] = (20,20)\n",
    "    for name in coefs_lasso.columns:\n",
    "        plt.plot(coefs_lasso.index, coefs_lasso[name], label=name)\n",
    "        \n",
    "        \n",
    "    plt.xlabel(r'hyperparameter $\\lambda$')\n",
    "    plt.ylabel(r'slope values')\n",
    "    plt.legend(loc=1)"
   ]
  },
  {
   "cell_type": "markdown",
   "metadata": {},
   "source": [
    "## Elastic Net Visualization\n",
    "Given many lambdas (alphas), graph an elastic net function with amount given. \n",
    "\n",
    "rho = 1 lasso regression, rho = 0 ridge regression.\n",
    "\n",
    "Only 10 colors available on graph"
   ]
  },
  {
   "cell_type": "code",
   "execution_count": null,
   "metadata": {},
   "outputs": [],
   "source": [
    "#elastisc net vizualization graph for many lambdas\n",
    "def elasticNet (alphas, df, target, rho):\n",
    "\n",
    "    elasticnet = ElasticNet()\n",
    "    elasticnet.set_params(normalize=False)\n",
    "    coefs_model  = []\n",
    "    #run through many alphas(lambdas)\n",
    "    for alpha in alphas:\n",
    "        elasticnet.set_params(alpha=alpha, l1_ratio= rho)\n",
    "        elasticnet.fit(df, target)  \n",
    "        coefs_model.append(elasticnet.coef_)\n",
    "\n",
    "    coefs_model = pd.DataFrame(coefs_model, index = alphas, columns = df.columns)  \n",
    "    \n",
    "    #plot all the figures for different lambda\n",
    "    plt.rcParams['figure.figsize'] = (20,20)\n",
    "    for name in coefs_model.columns:\n",
    "        plt.plot(coefs_model.index, coefs_model[name], label=name)\n",
    "            \n",
    "    plt.xlabel(r'hyperparameter $\\lambda$')\n",
    "    plt.ylabel(r'slope values')\n",
    "    plt.legend(loc=1)"
   ]
  },
  {
   "cell_type": "code",
   "execution_count": null,
   "metadata": {},
   "outputs": [],
   "source": [
    "#lambda\n",
    "alphas = np.linspace(0.1,1e4,20)\n",
    "#target\n",
    "prices = pd.Series(data.SalePrice)\n",
    "#only num & no NA\n",
    "cleaned = num_cleaner(fin_set).copy()\n",
    "\n",
    "#elasticNet visualization for multiple lambda\n",
    "elasticNet(alphas,cleaned.iloc[:,:9],prices,1) #1 for lasso, 0 for ridge, mixture is elastic net"
   ]
  },
  {
   "cell_type": "markdown",
   "metadata": {},
   "source": [
    "## Outputs an elastic net model that has been fitted to dataframe and target\n",
    "rho = 1 is lasso regressoion, rho=0 is ridge regression"
   ]
  },
  {
   "cell_type": "code",
   "execution_count": null,
   "metadata": {},
   "outputs": [],
   "source": [
    "#returns elasticNet based on one lambda\n",
    "def elasticNetModel (alpha, df, target, rho):\n",
    "    \n",
    "    elasticnet = ElasticNet()\n",
    "    elasticnet.set_params(normalize=False,l1ratio = rho)\n",
    "    model = elasticnet.fit(df,target)\n",
    "    return model"
   ]
  },
  {
   "cell_type": "markdown",
   "metadata": {},
   "source": [
    "### Clean code using functions"
   ]
  },
  {
   "cell_type": "code",
   "execution_count": 44,
   "metadata": {},
   "outputs": [
    {
     "name": "stderr",
     "output_type": "stream",
     "text": [
      "C:\\Users\\conma\\Anaconda3\\lib\\site-packages\\pandas\\core\\indexing.py:205: SettingWithCopyWarning: \n",
      "A value is trying to be set on a copy of a slice from a DataFrame\n",
      "\n",
      "See the caveats in the documentation: http://pandas.pydata.org/pandas-docs/stable/user_guide/indexing.html#returning-a-view-versus-a-copy\n",
      "  self._setitem_with_indexer(indexer, value)\n"
     ]
    }
   ],
   "source": [
    "num_clean = num_cleaner(fin_set).copy()\n",
    "ob_clean = mass_dummify(fin_set).copy()\n",
    "#combine num & ob dataset for Train\n",
    "cl_df = pd.concat([num_clean,ob_clean],axis=1)\n",
    "\n",
    "df1 = num_cleaner(fin_test)\n",
    "df2 = mass_dummify(fin_test)\n",
    "#combine Test sets\n",
    "cl_test = pd.concat([df1,df2],axis = 1)"
   ]
  },
  {
   "cell_type": "code",
   "execution_count": null,
   "metadata": {},
   "outputs": [],
   "source": [
    "X = cl_df.copy()\n",
    "y = data.SalePrice\n",
    "X_train, X_test, Y_train, Y_test = train_test_split(X,y, test_size=0.3)"
   ]
  },
  {
   "cell_type": "markdown",
   "metadata": {},
   "source": [
    "## Multi-linear regression model"
   ]
  },
  {
   "cell_type": "code",
   "execution_count": 45,
   "metadata": {
    "collapsed": true
   },
   "outputs": [
    {
     "name": "stdout",
     "output_type": "stream",
     "text": [
      "                            OLS Regression Results                            \n",
      "==============================================================================\n",
      "Dep. Variable:              SalePrice   R-squared:                       0.876\n",
      "Model:                            OLS   Adj. R-squared:                  0.865\n",
      "Method:                 Least Squares   F-statistic:                     85.20\n",
      "Date:                Sun, 01 Mar 2020   Prob (F-statistic):               0.00\n",
      "Time:                        17:29:07   Log-Likelihood:                -11944.\n",
      "No. Observations:                1022   AIC:                         2.405e+04\n",
      "Df Residuals:                     943   BIC:                         2.444e+04\n",
      "Df Model:                          78                                         \n",
      "Covariance Type:            nonrobust                                         \n",
      "=========================================================================================\n",
      "                            coef    std err          t      P>|t|      [0.025      0.975]\n",
      "-----------------------------------------------------------------------------------------\n",
      "const                  -1.27e+05   6.99e+04     -1.817      0.070   -2.64e+05    1.01e+04\n",
      "LotFrontage             -55.5463     55.293     -1.005      0.315    -164.057      52.964\n",
      "LotArea                   0.7980      0.122      6.560      0.000       0.559       1.037\n",
      "OverallQual            1.172e+04   1373.925      8.530      0.000    9022.850    1.44e+04\n",
      "OverallCond            5678.7777   1172.639      4.843      0.000    3377.494    7980.061\n",
      "YearBuilt               210.7735     89.610      2.352      0.019      34.916     386.631\n",
      "YearRemodAdd            -40.6520     77.914     -0.522      0.602    -193.556     112.252\n",
      "MasVnrArea                8.4293      6.412      1.315      0.189      -4.155      21.013\n",
      "1stFlrSF                 15.4527     28.246      0.547      0.584     -39.979      70.884\n",
      "2ndFlrSF                 42.5371     28.004      1.519      0.129     -12.420      97.495\n",
      "GrLivArea                47.9102     28.231      1.697      0.090      -7.493     103.313\n",
      "BsmtFullBath            1.17e+04   2143.318      5.459      0.000    7494.376    1.59e+04\n",
      "FullBath               3159.0017   3043.876      1.038      0.300   -2814.553    9132.557\n",
      "HalfBath              -2399.0552   2987.516     -0.803      0.422   -8262.005    3463.895\n",
      "BedroomAbvGr          -3317.2880   1721.338     -1.927      0.054   -6695.383      60.807\n",
      "KitchenAbvGr          -1.983e+04   5613.620     -3.533      0.000   -3.09e+04   -8817.969\n",
      "GarageCars              1.49e+04   2308.279      6.455      0.000    1.04e+04    1.94e+04\n",
      "WoodDeckSF               25.2408      8.511      2.966      0.003       8.539      41.943\n",
      "OpenPorchSF              15.3732     16.459      0.934      0.351     -16.928      47.675\n",
      "PoolArea              -6.006e+04   1.79e+04     -3.360      0.001   -9.51e+04    -2.5e+04\n",
      "LotShape_IR1          -1.681e+04   1.75e+04     -0.958      0.338   -5.12e+04    1.76e+04\n",
      "LotShape_IR2          -1.125e+04   1.83e+04     -0.615      0.539   -4.71e+04    2.46e+04\n",
      "LotShape_IR3          -8.134e+04   2.11e+04     -3.848      0.000   -1.23e+05   -3.99e+04\n",
      "LotShape_Reg          -1.756e+04   1.75e+04     -1.002      0.317    -5.2e+04    1.68e+04\n",
      "HouseStyle_1.5Fin     -2.236e+04   9323.658     -2.398      0.017   -4.07e+04   -4064.717\n",
      "HouseStyle_1.5Unf      5847.0001   1.45e+04      0.403      0.687   -2.26e+04    3.43e+04\n",
      "HouseStyle_1Story      8060.2292   9993.784      0.807      0.420   -1.16e+04    2.77e+04\n",
      "HouseStyle_2.5Fin     -4.931e+04   1.78e+04     -2.777      0.006   -8.42e+04   -1.45e+04\n",
      "HouseStyle_2.5Unf     -3.691e+04   1.65e+04     -2.241      0.025   -6.92e+04   -4592.883\n",
      "HouseStyle_2Story     -2.997e+04   1.01e+04     -2.981      0.003   -4.97e+04   -1.02e+04\n",
      "HouseStyle_SFoyer      1342.8371   1.15e+04      0.117      0.907   -2.12e+04    2.39e+04\n",
      "HouseStyle_SLvl       -3650.1797   1.05e+04     -0.347      0.729   -2.43e+04     1.7e+04\n",
      "CentralAir_N          -6.512e+04   3.46e+04     -1.880      0.060   -1.33e+05    2874.447\n",
      "CentralAir_Y          -6.183e+04   3.54e+04     -1.745      0.081   -1.31e+05    7689.309\n",
      "Heating_Floor         -1.446e+04   2.94e+04     -0.492      0.623   -7.21e+04    4.32e+04\n",
      "Heating_GasA          -1.535e+04   1.44e+04     -1.063      0.288   -4.37e+04     1.3e+04\n",
      "Heating_GasW          -1.715e+04   1.55e+04     -1.107      0.268   -4.75e+04    1.32e+04\n",
      "Heating_Grav          -9424.6965   1.93e+04     -0.489      0.625   -4.73e+04    2.84e+04\n",
      "Heating_OthW           -6.31e+04   2.29e+04     -2.750      0.006   -1.08e+05   -1.81e+04\n",
      "Heating_Wall          -7475.8819   2.01e+04     -0.371      0.710    -4.7e+04     3.2e+04\n",
      "Neighborhood_Blmngtn  -2.177e+04   9815.385     -2.218      0.027    -4.1e+04   -2509.011\n",
      "Neighborhood_Blueste  -2.664e+04   2.17e+04     -1.228      0.220   -6.92e+04    1.59e+04\n",
      "Neighborhood_BrDale   -1.393e+04   9750.506     -1.429      0.153   -3.31e+04    5203.185\n",
      "Neighborhood_BrkSide  -5636.7996   5939.462     -0.949      0.343   -1.73e+04    6019.293\n",
      "Neighborhood_ClearCr   -1.56e+04   7874.305     -1.981      0.048    -3.1e+04    -143.079\n",
      "Neighborhood_CollgCr    -56.3192   5473.567     -0.010      0.992   -1.08e+04    1.07e+04\n",
      "Neighborhood_Crawfor   1.049e+04   6010.287      1.746      0.081   -1300.201    2.23e+04\n",
      "Neighborhood_Edwards   -1.87e+04   4844.930     -3.860      0.000   -2.82e+04   -9191.708\n",
      "Neighborhood_Gilbert  -5257.5079   6607.321     -0.796      0.426   -1.82e+04    7709.246\n",
      "Neighborhood_IDOTRR   -1.379e+04   7079.046     -1.948      0.052   -2.77e+04     104.359\n",
      "Neighborhood_MeadowV  -2.088e+04   9337.184     -2.237      0.026   -3.92e+04   -2558.976\n",
      "Neighborhood_Mitchel  -1.292e+04   6493.789     -1.990      0.047   -2.57e+04    -179.009\n",
      "Neighborhood_NAmes      -1.2e+04   3991.977     -3.007      0.003   -1.98e+04   -4169.316\n",
      "Neighborhood_NPkVill  -1.724e+04   1.24e+04     -1.388      0.165   -4.16e+04    7135.990\n",
      "Neighborhood_NWAmes   -2.031e+04   5387.144     -3.770      0.000   -3.09e+04   -9736.266\n",
      "Neighborhood_NoRidge   4.125e+04   7322.699      5.634      0.000    2.69e+04    5.56e+04\n",
      "Neighborhood_NridgHt   2.491e+04   6946.890      3.586      0.000    1.13e+04    3.85e+04\n",
      "Neighborhood_OldTown  -1.946e+04   4924.676     -3.952      0.000   -2.91e+04   -9796.810\n",
      "Neighborhood_SWISU    -9769.5493   8667.668     -1.127      0.260   -2.68e+04    7240.599\n",
      "Neighborhood_Sawyer   -1.118e+04   5378.848     -2.079      0.038   -2.17e+04    -627.526\n",
      "Neighborhood_SawyerW  -6792.8102   6604.698     -1.028      0.304   -1.98e+04    6168.796\n",
      "Neighborhood_Somerst   5571.2121   6519.605      0.855      0.393   -7223.401    1.84e+04\n",
      "Neighborhood_StoneBr   3.935e+04   8322.048      4.729      0.000     2.3e+04    5.57e+04\n",
      "Neighborhood_Timber    -365.9636   7206.840     -0.051      0.960   -1.45e+04    1.38e+04\n",
      "Neighborhood_Veenker   3768.1377   1.26e+04      0.299      0.765    -2.1e+04    2.85e+04\n",
      "KitchenQual_Ex         3032.0513   1.85e+04      0.164      0.870   -3.33e+04    3.94e+04\n",
      "KitchenQual_Fa        -4.645e+04   1.75e+04     -2.659      0.008   -8.07e+04   -1.22e+04\n",
      "KitchenQual_Gd        -4.194e+04   1.82e+04     -2.309      0.021   -7.76e+04   -6292.932\n",
      "KitchenQual_TA         -4.16e+04   1.73e+04     -2.399      0.017   -7.56e+04   -7570.918\n",
      "Fireplaces_n          -6.547e+04   3.51e+04     -1.865      0.062   -1.34e+05    3406.215\n",
      "Fireplaces_y          -6.148e+04   3.48e+04     -1.766      0.078    -1.3e+05    6827.392\n",
      "GarageType_2Types     -4.728e+04    1.5e+04     -3.146      0.002   -7.68e+04   -1.78e+04\n",
      "GarageType_Attchd     -1.597e+04   5910.846     -2.701      0.007   -2.76e+04   -4366.164\n",
      "GarageType_Basment    -1.304e+04   9684.006     -1.347      0.178    -3.2e+04    5964.896\n",
      "GarageType_BuiltIn    -2.028e+04   7615.002     -2.663      0.008   -3.52e+04   -5337.538\n",
      "GarageType_CarPort    -3.157e+04   1.31e+04     -2.404      0.016   -5.73e+04   -5798.862\n",
      "GarageType_Detchd      -1.61e+04   5908.154     -2.725      0.007   -2.77e+04   -4507.943\n",
      "Fence_GdPrv           -6016.0763   5651.492     -1.065      0.287   -1.71e+04    5074.881\n",
      "Fence_GdWo             1076.8321   5333.300      0.202      0.840   -9389.678    1.15e+04\n",
      "Fence_MnPrv            2754.9046   3237.027      0.851      0.395   -3597.706    9107.515\n",
      "Fence_MnWw             3268.2045   1.19e+04      0.275      0.784   -2.01e+04    2.66e+04\n",
      "SaleCondition_Abnorml -3.125e+04   1.26e+04     -2.471      0.014   -5.61e+04   -6427.892\n",
      "SaleCondition_AdjLand -7279.3339   2.22e+04     -0.328      0.743   -5.08e+04    3.63e+04\n",
      "SaleCondition_Alloca   -3.37e+04   1.58e+04     -2.130      0.033   -6.48e+04   -2651.563\n",
      "SaleCondition_Family  -2.358e+04   1.48e+04     -1.589      0.112   -5.27e+04    5538.771\n",
      "SaleCondition_Normal  -2.277e+04   1.25e+04     -1.822      0.069   -4.73e+04    1753.235\n",
      "SaleCondition_Partial -8372.6983   1.34e+04     -0.625      0.532   -3.47e+04    1.79e+04\n",
      "==============================================================================\n",
      "Omnibus:                      285.032   Durbin-Watson:                   2.033\n",
      "Prob(Omnibus):                  0.000   Jarque-Bera (JB):            23235.307\n",
      "Skew:                           0.105   Prob(JB):                         0.00\n",
      "Kurtosis:                      26.358   Cond. No.                     4.74e+16\n",
      "==============================================================================\n",
      "\n",
      "Warnings:\n",
      "[1] Standard Errors assume that the covariance matrix of the errors is correctly specified.\n",
      "[2] The smallest eigenvalue is 1.02e-22. This might indicate that there are\n",
      "strong multicollinearity problems or that the design matrix is singular.\n"
     ]
    },
    {
     "name": "stderr",
     "output_type": "stream",
     "text": [
      "C:\\Users\\conma\\Anaconda3\\lib\\site-packages\\numpy\\core\\fromnumeric.py:2223: FutureWarning: Method .ptp is deprecated and will be removed in a future version. Use numpy.ptp instead.\n",
      "  return ptp(axis=axis, out=out, **kwargs)\n"
     ]
    }
   ],
   "source": [
    "#multi-linear regression\n",
    "X_add_const = sm.add_constant(X_train)\n",
    "ols = sm.OLS(Y_train, X_add_const)\n",
    "model = ols.fit()\n",
    "\n",
    "print(model.summary())"
   ]
  },
  {
   "cell_type": "markdown",
   "metadata": {},
   "source": [
    "## Grid search CV for finding best lambda"
   ]
  },
  {
   "cell_type": "code",
   "execution_count": null,
   "metadata": {},
   "outputs": [],
   "source": [
    "#trying to get best lambda\n",
    "target = pd.Series(data.SalePrice)\n",
    "params = {'alpha':np.linspace(1e-6,1000,100)}\n",
    "lasso_regressor = GridSearchCV(Lasso, params, scoring = 'neg_mean_squared_error',cv=5 )\n",
    "lasso_regressor.fit(cl_df,target)"
   ]
  },
  {
   "cell_type": "markdown",
   "metadata": {},
   "source": [
    "## Create elastic net model and print values"
   ]
  },
  {
   "cell_type": "code",
   "execution_count": 46,
   "metadata": {
    "scrolled": true
   },
   "outputs": [
    {
     "name": "stdout",
     "output_type": "stream",
     "text": [
      "The train R^2 is 0.8757\n",
      "The test R^2 is 0.7834\n",
      "The MSE is 1180092423.34\n"
     ]
    },
    {
     "name": "stderr",
     "output_type": "stream",
     "text": [
      "C:\\Users\\conma\\Anaconda3\\lib\\site-packages\\sklearn\\linear_model\\coordinate_descent.py:475: ConvergenceWarning: Objective did not converge. You might want to increase the number of iterations. Duality gap: 300989483345.5992, tolerance: 681812476.8011359\n",
      "  positive)\n"
     ]
    }
   ],
   "source": [
    "netModel = ElasticNet(alpha = 1e-5,normalize=True,l1_ratio = .5)\n",
    "netModel.fit(X_train,Y_train)\n",
    "netPredict = netModel.predict(cl_df)\n",
    "#mean_squared_error(Y_test,netModel.predict(X_test))\n",
    "print(r'The train R^2 is %.4f' %(netModel.score(X_train, Y_train)))\n",
    "print(r'The test R^2 is %.4f' %(netModel.score(X_test, Y_test)))\n",
    "print(r'The MSE is %.2f' %mean_squared_error(Y_test,netModel.predict(X_test)))"
   ]
  },
  {
   "cell_type": "code",
   "execution_count": 33,
   "metadata": {},
   "outputs": [
    {
     "data": {
      "text/plain": [
       "1459"
      ]
     },
     "execution_count": 33,
     "metadata": {},
     "output_type": "execute_result"
    }
   ],
   "source": [
    "predict = np.delete(netPredict, (-1), axis=0)\n",
    "predict.size"
   ]
  },
  {
   "cell_type": "code",
   "execution_count": 30,
   "metadata": {
    "collapsed": true
   },
   "outputs": [
    {
     "data": {
      "text/html": [
       "<div>\n",
       "<style scoped>\n",
       "    .dataframe tbody tr th:only-of-type {\n",
       "        vertical-align: middle;\n",
       "    }\n",
       "\n",
       "    .dataframe tbody tr th {\n",
       "        vertical-align: top;\n",
       "    }\n",
       "\n",
       "    .dataframe thead th {\n",
       "        text-align: right;\n",
       "    }\n",
       "</style>\n",
       "<table border=\"1\" class=\"dataframe\">\n",
       "  <thead>\n",
       "    <tr style=\"text-align: right;\">\n",
       "      <th></th>\n",
       "      <th>Id</th>\n",
       "      <th>SalePrice</th>\n",
       "    </tr>\n",
       "  </thead>\n",
       "  <tbody>\n",
       "    <tr>\n",
       "      <td>0</td>\n",
       "      <td>1461</td>\n",
       "      <td>196140</td>\n",
       "    </tr>\n",
       "    <tr>\n",
       "      <td>1</td>\n",
       "      <td>1462</td>\n",
       "      <td>216705</td>\n",
       "    </tr>\n",
       "    <tr>\n",
       "      <td>2</td>\n",
       "      <td>1463</td>\n",
       "      <td>201849</td>\n",
       "    </tr>\n",
       "    <tr>\n",
       "      <td>3</td>\n",
       "      <td>1464</td>\n",
       "      <td>303252</td>\n",
       "    </tr>\n",
       "    <tr>\n",
       "      <td>4</td>\n",
       "      <td>1465</td>\n",
       "      <td>161735</td>\n",
       "    </tr>\n",
       "    <tr>\n",
       "      <td>...</td>\n",
       "      <td>...</td>\n",
       "      <td>...</td>\n",
       "    </tr>\n",
       "    <tr>\n",
       "      <td>1454</td>\n",
       "      <td>2915</td>\n",
       "      <td>180817</td>\n",
       "    </tr>\n",
       "    <tr>\n",
       "      <td>1455</td>\n",
       "      <td>2916</td>\n",
       "      <td>237694</td>\n",
       "    </tr>\n",
       "    <tr>\n",
       "      <td>1456</td>\n",
       "      <td>2917</td>\n",
       "      <td>252187</td>\n",
       "    </tr>\n",
       "    <tr>\n",
       "      <td>1457</td>\n",
       "      <td>2918</td>\n",
       "      <td>130283</td>\n",
       "    </tr>\n",
       "    <tr>\n",
       "      <td>1458</td>\n",
       "      <td>2919</td>\n",
       "      <td>145947</td>\n",
       "    </tr>\n",
       "  </tbody>\n",
       "</table>\n",
       "<p>1459 rows × 2 columns</p>\n",
       "</div>"
      ],
      "text/plain": [
       "        Id  SalePrice\n",
       "0     1461     196140\n",
       "1     1462     216705\n",
       "2     1463     201849\n",
       "3     1464     303252\n",
       "4     1465     161735\n",
       "...    ...        ...\n",
       "1454  2915     180817\n",
       "1455  2916     237694\n",
       "1456  2917     252187\n",
       "1457  2918     130283\n",
       "1458  2919     145947\n",
       "\n",
       "[1459 rows x 2 columns]"
      ]
     },
     "execution_count": 30,
     "metadata": {},
     "output_type": "execute_result"
    }
   ],
   "source": [
    "# save predictions to csv with two columns:  Id, SalePrice\n",
    "predictionDF = pd.DataFrame()\n",
    "predictionDF['Id'] = range(1461,2920)\n",
    "\n",
    "# predictions of SalePrice are floating point numbers\n",
    "# here we round the floats to the nearest integer SalePrice dollar\n",
    "predictions = predict.round(0).astype('int64')\n",
    "predictionDF['SalePrice'] = predictions\n",
    "predictionDF.to_csv('./net_predictions.csv')"
   ]
  },
  {
   "cell_type": "markdown",
   "metadata": {},
   "source": [
    "## Create lasso regression model and print values"
   ]
  },
  {
   "cell_type": "code",
   "execution_count": 49,
   "metadata": {},
   "outputs": [
    {
     "name": "stdout",
     "output_type": "stream",
     "text": [
      "The train R^2 is 0.8757\n",
      "The test R^2 is 0.7814\n",
      "The MSE is 1190787359.62\n"
     ]
    },
    {
     "name": "stderr",
     "output_type": "stream",
     "text": [
      "C:\\Users\\conma\\Anaconda3\\lib\\site-packages\\sklearn\\linear_model\\coordinate_descent.py:475: ConvergenceWarning: Objective did not converge. You might want to increase the number of iterations. Duality gap: 423455937856.419, tolerance: 681812476.8011359\n",
      "  positive)\n"
     ]
    }
   ],
   "source": [
    "lasso = ElasticNet(alpha=1e-5,normalize=True,l1_ratio=1)\n",
    "lasso.fit(X_train,Y_train)\n",
    "mean_squared_error(Y_test,lasso.predict(X_test))\n",
    "print(r'The train R^2 is %.4f' %(lasso.score(X_train, Y_train)))\n",
    "print(r'The test R^2 is %.4f' %(lasso.score(X_test, Y_test)))\n",
    "print(r'The MSE is %.2f' %mean_squared_error(Y_test,lasso.predict(X_test)))"
   ]
  },
  {
   "cell_type": "markdown",
   "metadata": {},
   "source": [
    "## Create ridge regression model and print values"
   ]
  },
  {
   "cell_type": "code",
   "execution_count": 48,
   "metadata": {},
   "outputs": [
    {
     "name": "stdout",
     "output_type": "stream",
     "text": [
      "The train R^2 is 0.8757\n",
      "The test R^2 is 0.7815\n",
      "The MSE is 1190215512.88\n"
     ]
    },
    {
     "name": "stderr",
     "output_type": "stream",
     "text": [
      "C:\\Users\\conma\\Anaconda3\\lib\\site-packages\\sklearn\\linear_model\\coordinate_descent.py:475: ConvergenceWarning: Objective did not converge. You might want to increase the number of iterations. Duality gap: 423776745545.3195, tolerance: 681812476.8011359\n",
      "  positive)\n"
     ]
    }
   ],
   "source": [
    "ridge = ElasticNet(alpha=1e-5,normalize=False,l1_ratio=0)\n",
    "ridge.fit(X_train,Y_train)\n",
    "mean_squared_error(Y_test,ridge.predict(X_test))\n",
    "print(r'The train R^2 is %.4f' %(ridge.score(X_train, Y_train)))\n",
    "print(r'The test R^2 is %.4f' %(ridge.score(X_test, Y_test)))\n",
    "print(r'The MSE is %.2f' %mean_squared_error(Y_test,ridge.predict(X_test)))"
   ]
  }
 ],
 "metadata": {
  "kernelspec": {
   "display_name": "Python 3",
   "language": "python",
   "name": "python3"
  },
  "language_info": {
   "codemirror_mode": {
    "name": "ipython",
    "version": 3
   },
   "file_extension": ".py",
   "mimetype": "text/x-python",
   "name": "python",
   "nbconvert_exporter": "python",
   "pygments_lexer": "ipython3",
   "version": "3.7.4"
  }
 },
 "nbformat": 4,
 "nbformat_minor": 2
}
