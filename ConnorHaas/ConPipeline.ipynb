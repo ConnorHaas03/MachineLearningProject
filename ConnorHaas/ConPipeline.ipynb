{
 "cells": [
  {
   "cell_type": "code",
   "execution_count": 1,
   "metadata": {},
   "outputs": [],
   "source": [
    "import pandas as pd\n",
    "import numpy as np\n",
    "import matplotlib.pyplot as plt\n",
    "import seaborn as sns\n",
    "from sklearn.linear_model import LinearRegression, Ridge, Lasso, ElasticNet, RidgeCV, LassoCV\n",
    "from scipy import stats\n",
    "from sklearn.neighbors import KNeighborsClassifier\n",
    "from sklearn.metrics import mean_squared_error\n",
    "from math import sqrt\n",
    "import statsmodels.api as sm\n",
    "from sklearn.model_selection import train_test_split, KFold, GridSearchCV"
   ]
  },
  {
   "cell_type": "code",
   "execution_count": 2,
   "metadata": {},
   "outputs": [],
   "source": [
    "data = pd.read_csv('../train.csv')\n",
    "testData = pd.read_csv('../test.csv')"
   ]
  },
  {
   "cell_type": "markdown",
   "metadata": {},
   "source": [
    "\n",
    "## Here are our corr matrix for feature selection"
   ]
  },
  {
   "cell_type": "code",
   "execution_count": null,
   "metadata": {},
   "outputs": [],
   "source": [
    "#visual correlation matrix\n",
    "f = plt.figure(figsize=(25,25))\n",
    "plt.matshow(data.corr(), fignum=f.number)\n",
    "cb = plt.colorbar()\n",
    "\n",
    "#correlation matrix to csv\n",
    "c = data.corr().abs()\n",
    "s = c.unstack()\n",
    "so = s.sort_values(kind=\"quicksort\")\n",
    "so.to_csv('./corr.csv')\n",
    "\n",
    "#corr matrix of fin chosen set\n",
    "c = fin_set.corr().abs()\n",
    "s = c.unstack()\n",
    "so = s.sort_values(kind=\"quicksort\")\n",
    "so.to_csv('./finalSetcorr.csv')"
   ]
  },
  {
   "cell_type": "code",
   "execution_count": null,
   "metadata": {},
   "outputs": [],
   "source": [
    "#percentage of missing per column\n",
    "print((data.count() / len(data)) *100)\n",
    "\n",
    "#total missing columns\n",
    "print(data.isna().sum())\n",
    "\n",
    "#where there is no full bath above ground, \n",
    "a = np.where(df['FullBath'].values == 0)\n",
    "print(data.loc[a])"
   ]
  },
  {
   "cell_type": "code",
   "execution_count": null,
   "metadata": {},
   "outputs": [],
   "source": [
    "#Jason function for scatterplots\n",
    "sns.set()\n",
    "cols = ['WoodDeckSF',\n",
    "'OpenPorchSF',\n",
    "'EnclosedPorch',\n",
    "'3SsnPorch',\n",
    "'ScreenPorch',\n",
    "'PoolArea']\n",
    "sns.pairplot(df[cols], size = 2.5)\n",
    "plt.show();\n",
    "plt.savefig('pairplot.png',bbox_inches='tight')"
   ]
  },
  {
   "cell_type": "markdown",
   "metadata": {},
   "source": [
    "### Creates visualization for distributions"
   ]
  },
  {
   "cell_type": "code",
   "execution_count": null,
   "metadata": {},
   "outputs": [],
   "source": [
    "#show distribution of set\n",
    "sets = ['LotShape',\n",
    "'Neighborhood',\n",
    "'HouseStyle',\n",
    "'Heating',\n",
    "'CentralAir',\n",
    "'KitchenQual',\n",
    "'Functional',\n",
    "'GarageType',\n",
    "'GarageQual',\n",
    "'Fence',\n",
    "'SaleType',\n",
    "'SaleCondition']\n",
    "\n",
    "#Jaye function to count unique values\n",
    "for c in data.columns[:]:\n",
    "    if c in sets:\n",
    "        print('\\nCOLUMN: \"{}\"\\n=============================='.format(c))\n",
    "        print(data[c].value_counts(dropna=False).to_string())\n",
    "        # only include above columns categorical\n",
    "        continue"
   ]
  },
  {
   "cell_type": "markdown",
   "metadata": {},
   "source": [
    "## Features we have chosen to use after feature selection"
   ]
  },
  {
   "cell_type": "code",
   "execution_count": 54,
   "metadata": {},
   "outputs": [],
   "source": [
    "#variables we chose\n",
    "chosen = ['LotFrontage','LotArea','LotShape','HouseStyle',\n",
    "'OverallQual','OverallCond','YearBuilt','YearRemodAdd', 'CentralAir',\n",
    "'MasVnrArea','1stFlrSF','2ndFlrSF','GrLivArea','Heating',\n",
    "'BsmtFullBath','FullBath','HalfBath','BedroomAbvGr','KitchenAbvGr',\n",
    "'KitchenQual','Fireplaces','GarageType','GarageCars',\n",
    "'WoodDeckSF','OpenPorchSF','PoolArea', 'Fence','SaleCondition']\n",
    "\n",
    "#create dataset of chosen\n",
    "fin_set = data[chosen].copy()\n",
    "fin_test = testData[chosen].copy()"
   ]
  },
  {
   "cell_type": "code",
   "execution_count": null,
   "metadata": {},
   "outputs": [],
   "source": [
    "fin_set.describe()"
   ]
  },
  {
   "cell_type": "markdown",
   "metadata": {},
   "source": [
    "### Clean data further, log transformation and feature engineering"
   ]
  },
  {
   "cell_type": "code",
   "execution_count": 55,
   "metadata": {},
   "outputs": [],
   "source": [
    "fin_set['PoolArea'] = fin_set['PoolArea'].apply(lambda x: 1 if x>0 else 0)\n",
    "fin_set['Fireplaces'] = fin_set['Fireplaces'].apply(lambda x: 'y' if x>0 else 'n')\n",
    "\n",
    "#fin_set['LotArea','MasVnrArea','2ndFlrSF','OpenPorchSF']"
   ]
  },
  {
   "cell_type": "code",
   "execution_count": null,
   "metadata": {},
   "outputs": [],
   "source": [
    "fin_set['LotArea'] = np.log(fin_set['LotArea'])\n",
    "fin_set['MasVnrArea'] = np.log(fin_set['MasVnrArea'])\n",
    "fin_set['2ndFlrSF'] = np.log(fin_set['2ndFlrSF'])\n",
    "fin_set['OpenPorchSF'] = np.log(fin_set['OpenPorchSF'])\n",
    "fin_set"
   ]
  },
  {
   "cell_type": "markdown",
   "metadata": {},
   "source": [
    "## Num_Cleaner\n",
    "\n",
    "Takes in a dataframe and returns only int and floats with na's imputed with mean value"
   ]
  },
  {
   "cell_type": "code",
   "execution_count": 5,
   "metadata": {},
   "outputs": [],
   "source": [
    "#find numeric columns in given df,replace missing rows with column mean, return dataframe\n",
    "def num_cleaner (df):\n",
    "    numerics = ['int16', 'int32', 'int64', 'float16', 'float32', 'float64']\n",
    "    cl_df = pd.DataFrame()\n",
    "\n",
    "    df2 = df.select_dtypes(include=numerics).copy() #only numeric columns\n",
    "    nullCols = df2.isnull() #df of T/F, T if null (bool mask)\n",
    "    means = df2.mean() #series of mean per column\n",
    "\n",
    "    for c in df2:\n",
    "        for r in range(0,len(df2)-1):\n",
    "            if df2[c].iloc[r] and nullCols[c].iloc[r]:\n",
    "                df2[c].iloc[r] = means[c]\n",
    "\n",
    "    cl_df = df2.copy() #this will return only numeric features, need to add back type ob features after cleaning/dummify them\n",
    "    return cl_df"
   ]
  },
  {
   "cell_type": "markdown",
   "metadata": {},
   "source": [
    "## Dummify dataframe\n",
    "Find object types and dummify the columns"
   ]
  },
  {
   "cell_type": "code",
   "execution_count": 6,
   "metadata": {},
   "outputs": [],
   "source": [
    "#dummify object columns and return dataframe\n",
    "def mass_dummify (df):\n",
    "    df2 = df.select_dtypes(include=object).copy()\n",
    "    dum_df = pd.get_dummies(df2) #currently 61 columns, no neighborhoods\n",
    "    return dum_df"
   ]
  },
  {
   "cell_type": "markdown",
   "metadata": {},
   "source": [
    "## Lasso Regression Visualization\n",
    "\n",
    "Given many lambdas (alphas), graph an elastic net function with amount given. \n",
    "\n",
    "Only 10 colors available on graph"
   ]
  },
  {
   "cell_type": "code",
   "execution_count": null,
   "metadata": {},
   "outputs": [],
   "source": [
    "#lasso reg vizualization for many lamdas\n",
    "def lassoReg (alphas, df, target):\n",
    "\n",
    "    lasso  = Lasso()\n",
    "    #alphas = np.linspace(0.1,20.1,20)\n",
    "    lasso.set_params(normalize=False)\n",
    "    coefs_lasso  = []\n",
    "\n",
    "    for alpha in alphas:\n",
    "        lasso.set_params(alpha=alpha)\n",
    "        lasso.fit(df, target)  \n",
    "        coefs_lasso.append(lasso.coef_)\n",
    "\n",
    "    coefs_lasso = pd.DataFrame(coefs_lasso, index = alphas, columns = df.columns)  \n",
    "    #coefs_lasso.head()\n",
    "    \n",
    "    plt.rcParams['figure.figsize'] = (20,20)\n",
    "    for name in coefs_lasso.columns:\n",
    "        plt.plot(coefs_lasso.index, coefs_lasso[name], label=name)\n",
    "        \n",
    "        \n",
    "    plt.xlabel(r'hyperparameter $\\lambda$')\n",
    "    plt.ylabel(r'slope values')\n",
    "    plt.legend(loc=1)"
   ]
  },
  {
   "cell_type": "markdown",
   "metadata": {},
   "source": [
    "## Elastic Net Visualization\n",
    "Given many lambdas (alphas), graph an elastic net function with amount given. \n",
    "\n",
    "rho = 1 lasso regression, rho = 0 ridge regression.\n",
    "\n",
    "Only 10 colors available on graph"
   ]
  },
  {
   "cell_type": "code",
   "execution_count": null,
   "metadata": {},
   "outputs": [],
   "source": [
    "#elastisc net vizualization graph for many lambdas\n",
    "def elasticNet (alphas, df, target, rho):\n",
    "\n",
    "    elasticnet = ElasticNet()\n",
    "    elasticnet.set_params(normalize=False)\n",
    "    coefs_model  = []\n",
    "    #run through many alphas(lambdas)\n",
    "    for alpha in alphas:\n",
    "        elasticnet.set_params(alpha=alpha, l1_ratio= rho)\n",
    "        elasticnet.fit(df, target)  \n",
    "        coefs_model.append(elasticnet.coef_)\n",
    "\n",
    "    coefs_model = pd.DataFrame(coefs_model, index = alphas, columns = df.columns)  \n",
    "    \n",
    "    #plot all the figures for different lambda\n",
    "    plt.rcParams['figure.figsize'] = (20,20)\n",
    "    for name in coefs_model.columns:\n",
    "        plt.plot(coefs_model.index, coefs_model[name], label=name)\n",
    "            \n",
    "    plt.xlabel(r'hyperparameter $\\lambda$')\n",
    "    plt.ylabel(r'slope values')\n",
    "    plt.legend(loc=1)"
   ]
  },
  {
   "cell_type": "code",
   "execution_count": null,
   "metadata": {},
   "outputs": [],
   "source": [
    "#lambda\n",
    "alphas = np.linspace(0.1,1e4,20)\n",
    "#target\n",
    "prices = pd.Series(data.SalePrice)\n",
    "#only num & no NA\n",
    "cleaned = num_cleaner(fin_set).copy()\n",
    "\n",
    "#elasticNet visualization for multiple lambda\n",
    "elasticNet(alphas,cleaned.iloc[:,:9],prices,1) #1 for lasso, 0 for ridge, mixture is elastic net"
   ]
  },
  {
   "cell_type": "markdown",
   "metadata": {},
   "source": [
    "## Outputs an elastic net model that has been fitted to dataframe and target\n",
    "rho = 1 is lasso regressoion, rho=0 is ridge regression"
   ]
  },
  {
   "cell_type": "code",
   "execution_count": null,
   "metadata": {},
   "outputs": [],
   "source": [
    "#returns elasticNet based on one lambda\n",
    "def elasticNetModel (alpha, df, target, rho):\n",
    "    \n",
    "    elasticnet = ElasticNet()\n",
    "    elasticnet.set_params(normalize=False,l1ratio = rho)\n",
    "    model = elasticnet.fit(df,target)\n",
    "    return model"
   ]
  },
  {
   "cell_type": "markdown",
   "metadata": {},
   "source": [
    "### Clean code using functions"
   ]
  },
  {
   "cell_type": "code",
   "execution_count": 56,
   "metadata": {},
   "outputs": [
    {
     "name": "stderr",
     "output_type": "stream",
     "text": [
      "C:\\Users\\conma\\Anaconda3\\lib\\site-packages\\pandas\\core\\indexing.py:205: SettingWithCopyWarning: \n",
      "A value is trying to be set on a copy of a slice from a DataFrame\n",
      "\n",
      "See the caveats in the documentation: http://pandas.pydata.org/pandas-docs/stable/user_guide/indexing.html#returning-a-view-versus-a-copy\n",
      "  self._setitem_with_indexer(indexer, value)\n"
     ]
    }
   ],
   "source": [
    "num_clean = num_cleaner(fin_set).copy()\n",
    "ob_clean = mass_dummify(fin_set).copy()\n",
    "#combine num & ob dataset for Train\n",
    "cl_df = pd.concat([num_clean,ob_clean],axis=1)"
   ]
  },
  {
   "cell_type": "code",
   "execution_count": 31,
   "metadata": {},
   "outputs": [
    {
     "data": {
      "text/plain": [
       "1459"
      ]
     },
     "execution_count": 31,
     "metadata": {},
     "output_type": "execute_result"
    }
   ],
   "source": [
    "df1 = num_cleaner(fin_test)\n",
    "df2 = mass_dummify(fin_test)\n",
    "#combine Test sets\n",
    "cl_test = pd.concat([df1,df2],axis = 1)"
   ]
  },
  {
   "cell_type": "markdown",
   "metadata": {},
   "source": [
    "## Multi-linear regression model"
   ]
  },
  {
   "cell_type": "code",
   "execution_count": 57,
   "metadata": {
    "collapsed": true
   },
   "outputs": [
    {
     "name": "stdout",
     "output_type": "stream",
     "text": [
      "                            OLS Regression Results                            \n",
      "==============================================================================\n",
      "Dep. Variable:              SalePrice   R-squared:                       0.836\n",
      "Model:                            OLS   Adj. R-squared:                  0.830\n",
      "Method:                 Least Squares   F-statistic:                     132.8\n",
      "Date:                Sun, 01 Mar 2020   Prob (F-statistic):               0.00\n",
      "Time:                        22:04:07   Log-Likelihood:                -17224.\n",
      "No. Observations:                1460   AIC:                         3.456e+04\n",
      "Df Residuals:                    1405   BIC:                         3.485e+04\n",
      "Df Model:                          54                                         \n",
      "Covariance Type:            nonrobust                                         \n",
      "=========================================================================================\n",
      "                            coef    std err          t      P>|t|      [0.025      0.975]\n",
      "-----------------------------------------------------------------------------------------\n",
      "const                 -1.927e+05   5.22e+04     -3.690      0.000   -2.95e+05   -9.02e+04\n",
      "LotFrontage               8.5069     47.963      0.177      0.859     -85.580     102.594\n",
      "LotArea                   0.5418      0.102      5.298      0.000       0.341       0.742\n",
      "OverallQual            1.519e+04   1163.732     13.053      0.000    1.29e+04    1.75e+04\n",
      "OverallCond            5317.2152   1004.938      5.291      0.000    3345.874    7288.556\n",
      "YearBuilt               248.8554     62.955      3.953      0.000     125.359     372.352\n",
      "YearRemodAdd             17.0582     67.268      0.254      0.800    -114.898     149.015\n",
      "MasVnrArea               24.2580      5.631      4.308      0.000      13.212      35.304\n",
      "1stFlrSF                 11.8904     23.794      0.500      0.617     -34.785      58.566\n",
      "2ndFlrSF                 35.7371     23.104      1.547      0.122      -9.584      81.058\n",
      "GrLivArea                46.1873     23.539      1.962      0.050       0.012      92.362\n",
      "BsmtFullBath           1.421e+04   1879.115      7.561      0.000    1.05e+04    1.79e+04\n",
      "FullBath               2694.5114   2706.845      0.995      0.320   -2615.382    8004.405\n",
      "HalfBath               1571.7861   2593.161      0.606      0.545   -3515.098    6658.670\n",
      "BedroomAbvGr          -2999.9678   1452.144     -2.066      0.039   -5848.572    -151.364\n",
      "KitchenAbvGr          -2.371e+04   4775.984     -4.963      0.000   -3.31e+04   -1.43e+04\n",
      "GarageCars             1.529e+04   2036.268      7.508      0.000    1.13e+04    1.93e+04\n",
      "WoodDeckSF               23.0825      7.565      3.051      0.002       8.243      37.922\n",
      "OpenPorchSF              -7.8510     14.384     -0.546      0.585     -36.068      20.366\n",
      "PoolArea              -2.583e+04   1.36e+04     -1.898      0.058   -5.25e+04     870.208\n",
      "LotShape_IR1          -3.916e+04   1.31e+04     -2.979      0.003   -6.49e+04   -1.34e+04\n",
      "LotShape_IR2          -2.975e+04    1.4e+04     -2.126      0.034   -5.72e+04   -2295.066\n",
      "LotShape_IR3          -8.035e+04   1.61e+04     -4.999      0.000   -1.12e+05   -4.88e+04\n",
      "LotShape_Reg           -4.34e+04    1.3e+04     -3.331      0.001    -6.9e+04   -1.78e+04\n",
      "HouseStyle_1.5Fin     -2.653e+04   7099.568     -3.737      0.000   -4.05e+04   -1.26e+04\n",
      "HouseStyle_1.5Unf     -3567.1155   1.03e+04     -0.346      0.729   -2.38e+04    1.67e+04\n",
      "HouseStyle_1Story     -2044.8163   7954.603     -0.257      0.797   -1.76e+04    1.36e+04\n",
      "HouseStyle_2.5Fin     -5.459e+04   1.57e+04     -3.486      0.001   -8.53e+04   -2.39e+04\n",
      "HouseStyle_2.5Unf     -3.716e+04   1.19e+04     -3.127      0.002   -6.05e+04   -1.38e+04\n",
      "HouseStyle_2Story     -3.808e+04   7937.406     -4.798      0.000   -5.37e+04   -2.25e+04\n",
      "HouseStyle_SFoyer     -1.512e+04   9394.746     -1.609      0.108   -3.35e+04    3308.572\n",
      "HouseStyle_SLvl       -1.556e+04   8563.388     -1.818      0.069   -3.24e+04    1234.172\n",
      "CentralAir_N          -9.535e+04   2.57e+04     -3.715      0.000   -1.46e+05    -4.5e+04\n",
      "CentralAir_Y          -9.731e+04   2.67e+04     -3.639      0.000    -1.5e+05   -4.49e+04\n",
      "Heating_Floor         -1.568e+04   2.98e+04     -0.527      0.599   -7.41e+04    4.27e+04\n",
      "Heating_GasA          -2.417e+04   1.18e+04     -2.042      0.041   -4.74e+04    -954.553\n",
      "Heating_GasW          -3.166e+04   1.32e+04     -2.396      0.017   -5.76e+04   -5742.085\n",
      "Heating_Grav          -2.722e+04    1.6e+04     -1.705      0.088   -5.86e+04    4105.223\n",
      "Heating_OthW           -8.49e+04   2.28e+04     -3.721      0.000    -1.3e+05   -4.01e+04\n",
      "Heating_Wall          -9028.7555   1.81e+04     -0.499      0.618   -4.45e+04    2.64e+04\n",
      "KitchenQual_Ex         -1.45e+04   1.41e+04     -1.030      0.303   -4.21e+04    1.31e+04\n",
      "KitchenQual_Fa        -5.778e+04    1.3e+04     -4.437      0.000   -8.33e+04   -3.22e+04\n",
      "KitchenQual_Gd        -5.846e+04   1.39e+04     -4.212      0.000   -8.57e+04   -3.12e+04\n",
      "KitchenQual_TA        -6.193e+04   1.29e+04     -4.797      0.000   -8.72e+04   -3.66e+04\n",
      "Fireplaces_n          -9.865e+04   2.63e+04     -3.753      0.000    -1.5e+05   -4.71e+04\n",
      "Fireplaces_y          -9.401e+04    2.6e+04     -3.621      0.000   -1.45e+05   -4.31e+04\n",
      "GarageType_2Types     -3.849e+04   1.53e+04     -2.511      0.012   -6.86e+04   -8418.506\n",
      "GarageType_Attchd     -1.823e+04   5372.392     -3.394      0.001   -2.88e+04   -7692.950\n",
      "GarageType_Basment    -2.263e+04   9208.012     -2.458      0.014   -4.07e+04   -4567.902\n",
      "GarageType_BuiltIn    -2.054e+04   6787.446     -3.026      0.003   -3.39e+04   -7222.794\n",
      "GarageType_CarPort    -2.837e+04   1.23e+04     -2.315      0.021   -5.24e+04   -4325.412\n",
      "GarageType_Detchd     -1.868e+04   5330.344     -3.505      0.000   -2.91e+04   -8225.369\n",
      "Fence_GdPrv           -1.025e+04   4603.133     -2.227      0.026   -1.93e+04   -1223.391\n",
      "Fence_GdWo             -855.2645   4744.313     -0.180      0.857   -1.02e+04    8451.435\n",
      "Fence_MnPrv             978.6909   2946.919      0.332      0.740   -4802.144    6759.526\n",
      "Fence_MnWw             1204.9777   1.02e+04      0.118      0.906   -1.88e+04    2.12e+04\n",
      "SaleCondition_Abnorml -4.171e+04   9407.316     -4.434      0.000   -6.02e+04   -2.33e+04\n",
      "SaleCondition_AdjLand -3.105e+04   1.67e+04     -1.858      0.063   -6.38e+04    1736.258\n",
      "SaleCondition_Alloca  -3.336e+04   1.26e+04     -2.641      0.008   -5.81e+04   -8584.491\n",
      "SaleCondition_Family  -3.812e+04   1.11e+04     -3.432      0.001   -5.99e+04   -1.63e+04\n",
      "SaleCondition_Normal  -3.338e+04   9364.663     -3.565      0.000   -5.18e+04    -1.5e+04\n",
      "SaleCondition_Partial -1.503e+04   1.02e+04     -1.468      0.142   -3.51e+04    5052.901\n",
      "==============================================================================\n",
      "Omnibus:                      634.517   Durbin-Watson:                   1.973\n",
      "Prob(Omnibus):                  0.000   Jarque-Bera (JB):            83732.224\n",
      "Skew:                          -0.979   Prob(JB):                         0.00\n",
      "Kurtosis:                      40.048   Cond. No.                     1.33e+16\n",
      "==============================================================================\n",
      "\n",
      "Warnings:\n",
      "[1] Standard Errors assume that the covariance matrix of the errors is correctly specified.\n",
      "[2] The smallest eigenvalue is 1.78e-21. This might indicate that there are\n",
      "strong multicollinearity problems or that the design matrix is singular.\n"
     ]
    },
    {
     "name": "stderr",
     "output_type": "stream",
     "text": [
      "C:\\Users\\conma\\Anaconda3\\lib\\site-packages\\numpy\\core\\fromnumeric.py:2223: FutureWarning: Method .ptp is deprecated and will be removed in a future version. Use numpy.ptp instead.\n",
      "  return ptp(axis=axis, out=out, **kwargs)\n"
     ]
    }
   ],
   "source": [
    "#multi-linear regression\n",
    "X_add_const = sm.add_constant(cl_df)\n",
    "y = data.SalePrice\n",
    "ols = sm.OLS(y, X_add_const)\n",
    "model = ols.fit()\n",
    "\n",
    "print(model.summary())"
   ]
  },
  {
   "cell_type": "markdown",
   "metadata": {},
   "source": [
    "## Grid search CV for finding best lambda"
   ]
  },
  {
   "cell_type": "code",
   "execution_count": null,
   "metadata": {},
   "outputs": [],
   "source": [
    "#trying to get best lambda\n",
    "target = pd.Series(data.SalePrice)\n",
    "params = {'alpha':np.linspace(1e-6,1000,100)}\n",
    "lasso_regressor = GridSearchCV(Lasso, params, scoring = 'neg_mean_squared_error',cv=5)\n",
    "lasso_regressor.fit(cl_df,target)"
   ]
  },
  {
   "cell_type": "markdown",
   "metadata": {},
   "source": [
    "## Create elastic net model and print values"
   ]
  },
  {
   "cell_type": "code",
   "execution_count": 58,
   "metadata": {
    "scrolled": true
   },
   "outputs": [
    {
     "name": "stdout",
     "output_type": "stream",
     "text": [
      "The train R^2 is 0.8719\n"
     ]
    }
   ],
   "source": [
    "netModel = ElasticNet(alpha = 1e-4,normalize=True,l1_ratio = .5)\n",
    "y = np.log(data.SalePrice)\n",
    "netModel.fit(cl_df,y)\n",
    "netPredict = netModel.predict(cl_df)\n",
    "print(r'The train R^2 is %.4f' %(netModel.score(cl_df, y)))\n",
    "#print(r'The test R^2 is %.4f' %(netModel.score(X_test, Y_test)))"
   ]
  },
  {
   "cell_type": "code",
   "execution_count": 35,
   "metadata": {},
   "outputs": [],
   "source": [
    "submission = pd.DataFrame()\n",
    "submission['Id'] = testData.Id\n",
    "submission['SalePrice']= pd.DataFrame(np.exp(netPredict))\n",
    "submission.to_csv(\"./submissionFile.csv\",index = False)"
   ]
  },
  {
   "cell_type": "markdown",
   "metadata": {},
   "source": [
    "## Create lasso regression model and print values"
   ]
  },
  {
   "cell_type": "code",
   "execution_count": 59,
   "metadata": {
    "scrolled": true
   },
   "outputs": [
    {
     "name": "stdout",
     "output_type": "stream",
     "text": [
      "The train R^2 is 0.8749\n"
     ]
    }
   ],
   "source": [
    "lasso = ElasticNet(alpha=1e-5,normalize=True,l1_ratio=1)\n",
    "#Y_test = np.log(testData.Saleprice)\n",
    "lasso.fit(cl_df,y)\n",
    "lasPredict = lasso.predict(cl_df)\n",
    "print(r'The train R^2 is %.4f' %(lasso.score(cl_df, y)))\n",
    "#print(r'The test R^2 is %.4f' %(lasso.score(X_test, Y_test)))\n",
    "#print(r'The MSE is %.2f' %mean_squared_error(Y_test,lasso.predict(X_test)))"
   ]
  },
  {
   "cell_type": "code",
   "execution_count": 42,
   "metadata": {},
   "outputs": [],
   "source": [
    "submissionLas = pd.DataFrame()\n",
    "submissionLas['Id'] = testData.Id\n",
    "submissionLas['SalePrice']= pd.DataFrame(np.exp(lasPredict))\n",
    "submission.to_csv(\"./submissionFileLasso.csv\",index = False)"
   ]
  },
  {
   "cell_type": "markdown",
   "metadata": {},
   "source": [
    "## Create ridge regression model and print values"
   ]
  },
  {
   "cell_type": "code",
   "execution_count": 61,
   "metadata": {},
   "outputs": [
    {
     "name": "stdout",
     "output_type": "stream",
     "text": [
      "The train R^2 is 0.8747\n"
     ]
    },
    {
     "name": "stderr",
     "output_type": "stream",
     "text": [
      "C:\\Users\\conma\\Anaconda3\\lib\\site-packages\\sklearn\\linear_model\\coordinate_descent.py:475: ConvergenceWarning: Objective did not converge. You might want to increase the number of iterations. Duality gap: 14.965211508078879, tolerance: 0.02328006589886511\n",
      "  positive)\n"
     ]
    }
   ],
   "source": [
    "ridge = ElasticNet(alpha=1e-5,normalize=True,l1_ratio=0)\n",
    "ridge.fit(cl_df,y)\n",
    "print(r'The train R^2 is %.4f' %(ridge.score(cl_df, y)))\n",
    "# print(r'The test R^2 is %.4f' %(ridge.score(X_test, Y_test)))\n",
    "# print(r'The MSE is %.2f' %mean_squared_error(Y_test,ridge.predict(X_test)))"
   ]
  }
 ],
 "metadata": {
  "kernelspec": {
   "display_name": "Python 3",
   "language": "python",
   "name": "python3"
  },
  "language_info": {
   "codemirror_mode": {
    "name": "ipython",
    "version": 3
   },
   "file_extension": ".py",
   "mimetype": "text/x-python",
   "name": "python",
   "nbconvert_exporter": "python",
   "pygments_lexer": "ipython3",
   "version": "3.7.4"
  }
 },
 "nbformat": 4,
 "nbformat_minor": 2
}
